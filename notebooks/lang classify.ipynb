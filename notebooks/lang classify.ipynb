{
 "cells": [
  {
   "cell_type": "code",
   "execution_count": 1,
   "metadata": {
    "collapsed": true
   },
   "outputs": [],
   "source": [
    "import pandas\n",
    "import numpy as np\n",
    "from metrics import Metrics\n",
    "from sklearn import metrics\n",
    "import glob\n",
    "import collections\n",
    "import os\n",
    "import json\n",
    "from matplotlib import pyplot"
   ]
  },
  {
   "cell_type": "code",
   "execution_count": 2,
   "metadata": {
    "collapsed": false
   },
   "outputs": [],
   "source": [
    "subreddits = ['en', 'es', 'gl', 'fr', 'ca', 'de', 'it', 'pt', 'eu']\n",
    "\n",
    "def MakePredictions(filename):\n",
    "    df = pandas.read_csv(filename, index_col=0)\n",
    "    \n",
    "    df[subreddits] = df[subreddits].sub(df[subreddits].mean(axis=1), axis=0)\n",
    "            \n",
    "    ss = np.array(subreddits)\n",
    "    df['pred'] = ss[np.argmin(df[subreddits].values, axis=1)]\n",
    "\n",
    "    return df"
   ]
  },
  {
   "cell_type": "code",
   "execution_count": 3,
   "metadata": {
    "collapsed": false
   },
   "outputs": [],
   "source": [
    "def GetPPL(filename):\n",
    "    dirname = os.path.dirname(filename)\n",
    "    pplfile = os.path.join(dirname, 'ppl.txt')\n",
    "    if os.path.exists(pplfile):\n",
    "        with open(pplfile, 'r') as f:\n",
    "          lines = f.readlines()\n",
    "        if len(lines):\n",
    "            ppl = lines[-1].split()[-1]\n",
    "            return ppl\n",
    "    return None"
   ]
  },
  {
   "cell_type": "code",
   "execution_count": 4,
   "metadata": {
    "collapsed": true
   },
   "outputs": [],
   "source": [
    "def GetParams(filename):\n",
    "    dirname = os.path.dirname(filename)\n",
    "    paramsfile = os.path.join(dirname, 'params.json')\n",
    "    with open(paramsfile, 'r') as g:\n",
    "        params = json.load(g)\n",
    "    return params"
   ]
  },
  {
   "cell_type": "code",
   "execution_count": 5,
   "metadata": {
    "collapsed": false
   },
   "outputs": [],
   "source": [
    "dataframes = {}\n",
    "for filename in glob.glob('exps/ctw*/classify.csv'):\n",
    "    dataframes[filename] = MakePredictions(filename)"
   ]
  },
  {
   "cell_type": "code",
   "execution_count": 6,
   "metadata": {
    "collapsed": false
   },
   "outputs": [],
   "source": [
    "def GetAuc(sub, df):\n",
    "    fpr, tpr, thresholds = metrics.roc_curve(df.label == sub, -df[sub])\n",
    "    return metrics.auc(fpr, tpr)\n",
    "\n",
    "def PlotAuc(sub, df):\n",
    "    fpr, tpr, thresholds = metrics.roc_curve(df.label == sub, -df[sub])\n",
    "    pyplot.plot(fpr, tpr)"
   ]
  },
  {
   "cell_type": "code",
   "execution_count": 39,
   "metadata": {
    "collapsed": false
   },
   "outputs": [
    {
     "data": {
      "text/html": [
       "<div>\n",
       "<table border=\"1\" class=\"dataframe\">\n",
       "  <thead>\n",
       "    <tr style=\"text-align: right;\">\n",
       "      <th></th>\n",
       "      <th>acc</th>\n",
       "      <th>f1</th>\n",
       "      <th>avg</th>\n",
       "      <th>ppl</th>\n",
       "      <th>model</th>\n",
       "      <th>hyper</th>\n",
       "      <th>mikolov</th>\n",
       "      <th>softmax</th>\n",
       "      <th>hash</th>\n",
       "    </tr>\n",
       "  </thead>\n",
       "  <tbody>\n",
       "    <tr>\n",
       "      <th>10</th>\n",
       "      <td>0.927929</td>\n",
       "      <td>85.199503</td>\n",
       "      <td>0.958145</td>\n",
       "      <td>6.151</td>\n",
       "      <td>exps/ctweet13/classify.csv</td>\n",
       "      <td>0</td>\n",
       "      <td>1</td>\n",
       "      <td>1</td>\n",
       "      <td>1</td>\n",
       "    </tr>\n",
       "    <tr>\n",
       "      <th>19</th>\n",
       "      <td>0.913643</td>\n",
       "      <td>82.860269</td>\n",
       "      <td>0.949153</td>\n",
       "      <td>6.206</td>\n",
       "      <td>exps/ctweet12/classify.csv</td>\n",
       "      <td>0</td>\n",
       "      <td>1</td>\n",
       "      <td>1</td>\n",
       "      <td>0</td>\n",
       "    </tr>\n",
       "    <tr>\n",
       "      <th>9</th>\n",
       "      <td>0.916071</td>\n",
       "      <td>84.157587</td>\n",
       "      <td>0.949706</td>\n",
       "      <td>6.232</td>\n",
       "      <td>exps/ctweet4/classify.csv</td>\n",
       "      <td>0</td>\n",
       "      <td>1</td>\n",
       "      <td>0</td>\n",
       "      <td>0</td>\n",
       "    </tr>\n",
       "    <tr>\n",
       "      <th>12</th>\n",
       "      <td>0.924571</td>\n",
       "      <td>84.410108</td>\n",
       "      <td>0.951286</td>\n",
       "      <td>6.245</td>\n",
       "      <td>exps/ctweet5/classify.csv</td>\n",
       "      <td>0</td>\n",
       "      <td>1</td>\n",
       "      <td>0</td>\n",
       "      <td>1</td>\n",
       "    </tr>\n",
       "    <tr>\n",
       "      <th>23</th>\n",
       "      <td>0.925286</td>\n",
       "      <td>84.745894</td>\n",
       "      <td>0.955819</td>\n",
       "      <td>6.276</td>\n",
       "      <td>exps/ctweet6/classify.csv</td>\n",
       "      <td>1</td>\n",
       "      <td>1</td>\n",
       "      <td>0</td>\n",
       "      <td>0</td>\n",
       "    </tr>\n",
       "    <tr>\n",
       "      <th>1</th>\n",
       "      <td>0.932286</td>\n",
       "      <td>85.135814</td>\n",
       "      <td>0.961024</td>\n",
       "      <td>6.280</td>\n",
       "      <td>exps/ctweet10/classify.csv</td>\n",
       "      <td>1</td>\n",
       "      <td>0</td>\n",
       "      <td>1</td>\n",
       "      <td>0</td>\n",
       "    </tr>\n",
       "    <tr>\n",
       "      <th>11</th>\n",
       "      <td>0.936571</td>\n",
       "      <td>86.263831</td>\n",
       "      <td>0.961509</td>\n",
       "      <td>6.296</td>\n",
       "      <td>exps/ctweet7/classify.csv</td>\n",
       "      <td>1</td>\n",
       "      <td>1</td>\n",
       "      <td>0</td>\n",
       "      <td>1</td>\n",
       "    </tr>\n",
       "    <tr>\n",
       "      <th>3</th>\n",
       "      <td>0.936929</td>\n",
       "      <td>86.104743</td>\n",
       "      <td>0.961689</td>\n",
       "      <td>6.313</td>\n",
       "      <td>exps/ctweet11/classify.csv</td>\n",
       "      <td>1</td>\n",
       "      <td>0</td>\n",
       "      <td>1</td>\n",
       "      <td>1</td>\n",
       "    </tr>\n",
       "    <tr>\n",
       "      <th>6</th>\n",
       "      <td>0.570071</td>\n",
       "      <td>44.517209</td>\n",
       "      <td>0.861810</td>\n",
       "      <td>6.343</td>\n",
       "      <td>exps/ctweet9/classify.csv</td>\n",
       "      <td>0</td>\n",
       "      <td>0</td>\n",
       "      <td>1</td>\n",
       "      <td>1</td>\n",
       "    </tr>\n",
       "    <tr>\n",
       "      <th>18</th>\n",
       "      <td>0.928857</td>\n",
       "      <td>85.157106</td>\n",
       "      <td>0.957019</td>\n",
       "      <td>6.352</td>\n",
       "      <td>exps/ctweet15/classify.csv</td>\n",
       "      <td>1</td>\n",
       "      <td>1</td>\n",
       "      <td>1</td>\n",
       "      <td>1</td>\n",
       "    </tr>\n",
       "    <tr>\n",
       "      <th>20</th>\n",
       "      <td>0.496714</td>\n",
       "      <td>36.564269</td>\n",
       "      <td>0.843091</td>\n",
       "      <td>6.372</td>\n",
       "      <td>exps/ctweet8/classify.csv</td>\n",
       "      <td>0</td>\n",
       "      <td>0</td>\n",
       "      <td>1</td>\n",
       "      <td>0</td>\n",
       "    </tr>\n",
       "    <tr>\n",
       "      <th>4</th>\n",
       "      <td>0.936000</td>\n",
       "      <td>85.876540</td>\n",
       "      <td>0.961729</td>\n",
       "      <td>6.387</td>\n",
       "      <td>exps/ctweet3/classify.csv</td>\n",
       "      <td>1</td>\n",
       "      <td>0</td>\n",
       "      <td>0</td>\n",
       "      <td>1</td>\n",
       "    </tr>\n",
       "    <tr>\n",
       "      <th>0</th>\n",
       "      <td>0.560857</td>\n",
       "      <td>43.963081</td>\n",
       "      <td>0.860953</td>\n",
       "      <td>6.431</td>\n",
       "      <td>exps/ctweet1/classify.csv</td>\n",
       "      <td>0</td>\n",
       "      <td>0</td>\n",
       "      <td>0</td>\n",
       "      <td>1</td>\n",
       "    </tr>\n",
       "    <tr>\n",
       "      <th>22</th>\n",
       "      <td>0.941500</td>\n",
       "      <td>86.265438</td>\n",
       "      <td>0.959575</td>\n",
       "      <td>6.539</td>\n",
       "      <td>exps/ctweet14/classify.csv</td>\n",
       "      <td>1</td>\n",
       "      <td>1</td>\n",
       "      <td>1</td>\n",
       "      <td>0</td>\n",
       "    </tr>\n",
       "    <tr>\n",
       "      <th>14</th>\n",
       "      <td>0.939000</td>\n",
       "      <td>85.634442</td>\n",
       "      <td>0.968209</td>\n",
       "      <td>6.904</td>\n",
       "      <td>exps/ctweet2/classify.csv</td>\n",
       "      <td>1</td>\n",
       "      <td>0</td>\n",
       "      <td>0</td>\n",
       "      <td>0</td>\n",
       "    </tr>\n",
       "  </tbody>\n",
       "</table>\n",
       "</div>"
      ],
      "text/plain": [
       "         acc         f1       avg    ppl                       model  hyper  \\\n",
       "10  0.927929  85.199503  0.958145  6.151  exps/ctweet13/classify.csv      0   \n",
       "19  0.913643  82.860269  0.949153  6.206  exps/ctweet12/classify.csv      0   \n",
       "9   0.916071  84.157587  0.949706  6.232   exps/ctweet4/classify.csv      0   \n",
       "12  0.924571  84.410108  0.951286  6.245   exps/ctweet5/classify.csv      0   \n",
       "23  0.925286  84.745894  0.955819  6.276   exps/ctweet6/classify.csv      1   \n",
       "1   0.932286  85.135814  0.961024  6.280  exps/ctweet10/classify.csv      1   \n",
       "11  0.936571  86.263831  0.961509  6.296   exps/ctweet7/classify.csv      1   \n",
       "3   0.936929  86.104743  0.961689  6.313  exps/ctweet11/classify.csv      1   \n",
       "6   0.570071  44.517209  0.861810  6.343   exps/ctweet9/classify.csv      0   \n",
       "18  0.928857  85.157106  0.957019  6.352  exps/ctweet15/classify.csv      1   \n",
       "20  0.496714  36.564269  0.843091  6.372   exps/ctweet8/classify.csv      0   \n",
       "4   0.936000  85.876540  0.961729  6.387   exps/ctweet3/classify.csv      1   \n",
       "0   0.560857  43.963081  0.860953  6.431   exps/ctweet1/classify.csv      0   \n",
       "22  0.941500  86.265438  0.959575  6.539  exps/ctweet14/classify.csv      1   \n",
       "14  0.939000  85.634442  0.968209  6.904   exps/ctweet2/classify.csv      1   \n",
       "\n",
       "    mikolov  softmax  hash  \n",
       "10        1        1     1  \n",
       "19        1        1     0  \n",
       "9         1        0     0  \n",
       "12        1        0     1  \n",
       "23        1        0     0  \n",
       "1         0        1     0  \n",
       "11        1        0     1  \n",
       "3         0        1     1  \n",
       "6         0        1     1  \n",
       "18        1        1     1  \n",
       "20        0        1     0  \n",
       "4         0        0     1  \n",
       "0         0        0     1  \n",
       "22        1        1     0  \n",
       "14        0        0     0  "
      ]
     },
     "execution_count": 39,
     "metadata": {},
     "output_type": "execute_result"
    }
   ],
   "source": [
    "results = []\n",
    "for filename in dataframes:\n",
    "    row = {'model': filename}\n",
    "    df = dataframes[filename]\n",
    "    for sub in subreddits:\n",
    "        row[sub] = GetAuc(sub, df)\n",
    "    f1, acc = Metrics(list(df.pred.values), list(df.label.values), show=False)\n",
    "    row['f1'] = f1\n",
    "    row['acc'] = acc\n",
    "    row['ppl'] = GetPPL(filename)\n",
    "    \n",
    "    params = GetParams(filename)\n",
    "    row['hash'] = int(params['use_hash_table'])\n",
    "    row['hyper'] = int(params['use_hyper_adaptation'])\n",
    "    row['mikolov'] = int(params['use_mikolov_adaptation'])\n",
    "    row['softmax'] = int(params['use_softmax_adaptation'])\n",
    "    \n",
    "    results.append(row)\n",
    "results = pandas.DataFrame(results)\n",
    "results['avg'] = results[subreddits].mean(axis=1)\n",
    "results[results.model.apply(len) < 27].sort_values('ppl')[['acc', 'f1', 'avg', 'ppl', 'model',\n",
    "                          'hyper', 'mikolov', 'softmax', 'hash']]"
   ]
  },
  {
   "cell_type": "code",
   "execution_count": 37,
   "metadata": {
    "collapsed": false
   },
   "outputs": [
    {
     "name": "stdout",
     "output_type": "stream",
     "text": [
      "accuracy = 0.942\n",
      " Lang     Prec.   Rec.   F1\n",
      "------------------------------\n",
      "  ca       85.11  95.86  90.17\n",
      "  de       92.50  94.87  93.67\n",
      "  en       97.76  98.12  97.94\n",
      "  es       96.21  94.50  95.35\n",
      "  eu       86.03  88.51  87.25\n",
      "  fr       92.36  87.97  90.11\n",
      "  gl       30.71  63.59  41.42\n",
      "  it       83.26  89.15  86.10\n",
      "  pt       97.30  91.63  94.38\n",
      "------------------------------\n",
      "  Total:   84.58  89.36  86.27\n"
     ]
    }
   ],
   "source": [
    "df = dataframes['exps/ctweet14/classify.csv']\n",
    "Metrics(list(df.pred.values), list(df.label.values));"
   ]
  },
  {
   "cell_type": "code",
   "execution_count": 38,
   "metadata": {
    "collapsed": false
   },
   "outputs": [
    {
     "name": "stdout",
     "output_type": "stream",
     "text": [
      "accuracy = 0.939\n",
      " Lang     Prec.   Rec.   F1\n",
      "------------------------------\n",
      "  ca       93.56  91.72  92.63\n",
      "  de       90.69  94.87  92.73\n",
      "  en       97.78  97.96  97.87\n",
      "  es       95.54  94.62  95.08\n",
      "  eu       82.90  91.95  87.19\n",
      "  fr       91.49  86.71  89.03\n",
      "  gl       28.65  58.70  38.50\n",
      "  it       79.57  88.21  83.67\n",
      "  pt       96.48  91.66  94.01\n",
      "------------------------------\n",
      "  Total:   84.07  88.49  85.63\n"
     ]
    }
   ],
   "source": [
    "df = dataframes['exps/ctweet2/classify.csv']\n",
    "Metrics(list(df.pred.values), list(df.label.values));"
   ]
  },
  {
   "cell_type": "code",
   "execution_count": 400,
   "metadata": {
    "collapsed": false
   },
   "outputs": [
    {
     "data": {
      "image/png": "[encoded data removed]",
      "text/plain": [
       "<matplotlib.figure.Figure at 0x7f9b859628d0>"
      ]
     },
     "metadata": {},
     "output_type": "display_data"
    }
   ],
   "source": [
    "pyplot.plot(results.acc, results.ppl, 'x')\n",
    "pyplot.show()"
   ]
  },
  {
   "cell_type": "code",
   "execution_count": 22,
   "metadata": {
    "collapsed": false
   },
   "outputs": [
    {
     "ename": "NameError",
     "evalue": "name 'pt' is not defined",
     "output_type": "error",
     "traceback": [
      "\u001b[0;31m---------------------------------------------------------------------------\u001b[0m",
      "\u001b[0;31mNameError\u001b[0m                                 Traceback (most recent call last)",
      "\u001b[0;32m<ipython-input-22-180a742b0db4>\u001b[0m in \u001b[0;36m<module>\u001b[0;34m()\u001b[0m\n\u001b[0;32m----> 1\u001b[0;31m \u001b[0mfpr\u001b[0m\u001b[0;34m,\u001b[0m \u001b[0mtpr\u001b[0m\u001b[0;34m,\u001b[0m \u001b[0mthresholds\u001b[0m \u001b[0;34m=\u001b[0m \u001b[0mmetrics\u001b[0m\u001b[0;34m.\u001b[0m\u001b[0mroc_curve\u001b[0m\u001b[0;34m(\u001b[0m\u001b[0mdf\u001b[0m\u001b[0;34m.\u001b[0m\u001b[0mlabel\u001b[0m \u001b[0;34m==\u001b[0m \u001b[0msub\u001b[0m\u001b[0;34m,\u001b[0m \u001b[0;34m-\u001b[0m\u001b[0mdf\u001b[0m\u001b[0;34m[\u001b[0m\u001b[0mpt\u001b[0m\u001b[0;34m]\u001b[0m\u001b[0;34m)\u001b[0m\u001b[0;34m\u001b[0m\u001b[0m\n\u001b[0m",
      "\u001b[0;31mNameError\u001b[0m: name 'pt' is not defined"
     ]
    }
   ],
   "source": []
  },
  {
   "cell_type": "code",
   "execution_count": 35,
   "metadata": {
    "collapsed": false
   },
   "outputs": [
    {
     "data": {
      "image/png": "[encoded data removed]",
      "text/plain": [
       "<matplotlib.figure.Figure at 0x7f97008eea50>"
      ]
     },
     "metadata": {},
     "output_type": "display_data"
    }
   ],
   "source": [
    "sub = 'pt'\n",
    "fpr, tpr, thresholds = metrics.roc_curve(df.label == sub, -df[sub])\n",
    "pyplot.plot(fpr, tpr)\n",
    "sub = 'en'\n",
    "fpr, tpr, thresholds = metrics.roc_curve(df.label == sub, -df[sub])\n",
    "pyplot.plot(fpr, tpr)\n",
    "\n",
    "sub = 'es'\n",
    "fpr, tpr, thresholds = metrics.roc_curve(df.label == sub, -df[sub])\n",
    "pyplot.plot(fpr, tpr)\n",
    "\n",
    "sub = 'eu'\n",
    "fpr, tpr, thresholds = metrics.roc_curve(df.label == sub, -df[sub])\n",
    "pyplot.plot(fpr, tpr)\n",
    "\n",
    "pyplot.legend(['pt', 'en', 'es', 'eu'])\n",
    "\n",
    "pyplot.semilogy()\n",
    "pyplot.semilogx()\n",
    "pyplot.xlim([0.001, 1.0])\n",
    "pyplot.ylim([0.1, 1.0])\n",
    "pyplot.show()"
   ]
  },
  {
   "cell_type": "code",
   "execution_count": 21,
   "metadata": {
    "collapsed": false
   },
   "outputs": [
    {
     "data": {
      "image/png": "[encoded data removed]",
      "text/plain": [
       "<matplotlib.figure.Figure at 0x7f970090d2d0>"
      ]
     },
     "metadata": {},
     "output_type": "display_data"
    }
   ],
   "source": [
    "pyplot.hist(df['pt'], bins=100)\n",
    "pyplot.show()"
   ]
  },
  {
   "cell_type": "code",
   "execution_count": null,
   "metadata": {
    "collapsed": true
   },
   "outputs": [],
   "source": []
  }
 ],
 "metadata": {
  "kernelspec": {
   "display_name": "Python 2",
   "language": "python",
   "name": "python2"
  },
  "language_info": {
   "codemirror_mode": {
    "name": "ipython",
    "version": 2
   },
   "file_extension": ".py",
   "mimetype": "text/x-python",
   "name": "python",
   "nbconvert_exporter": "python",
   "pygments_lexer": "ipython2",
   "version": "2.7.11"
  }
 },
 "nbformat": 4,
 "nbformat_minor": 2
}
