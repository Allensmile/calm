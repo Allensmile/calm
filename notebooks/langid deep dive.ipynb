{
 "cells": [
  {
   "cell_type": "code",
   "execution_count": 5,
   "metadata": {
    "collapsed": true
   },
   "outputs": [],
   "source": [
    "import tensorflow as tf\n",
    "import bunch\n",
    "import os\n",
    "import json\n",
    "import pickle\n",
    "import numpy as np\n",
    "import pandas\n",
    "\n",
    "from model import HyperModel\n",
    "from vocab import Vocab\n",
    "from dataset import Dataset"
   ]
  },
  {
   "cell_type": "code",
   "execution_count": 6,
   "metadata": {
    "collapsed": true
   },
   "outputs": [],
   "source": [
    "expdir = 'exps/ctweet0'\n",
    "datafile = '/g/ssli/data/LowResourceLM/tweets/train.tsv.gz'\n",
    "datafile = '/s0/ajaech/codeswitchtmp.csv.gz'"
   ]
  },
  {
   "cell_type": "code",
   "execution_count": 7,
   "metadata": {
    "collapsed": false
   },
   "outputs": [],
   "source": [
    "filename = '/g/ssli/data/langid/gideon/spanish.csv'\n",
    "spanish = pandas.read_csv(filename, header=None)\n",
    "spanish.columns = ['text']\n",
    "spanish['lang'] = 'en'\n",
    "spanish = spanish[['lang', 'text']]\n",
    "spanish['text'] = spanish['text'].apply(lambda x: x.replace('\\n', ' '))\n",
    "spanish.head()\n",
    "spanish.to_csv('/s0/ajaech/codeswitchtmp.csv', sep='\\t', header=None, index=None)"
   ]
  },
  {
   "cell_type": "code",
   "execution_count": 8,
   "metadata": {
    "collapsed": false
   },
   "outputs": [],
   "source": [
    "param_filename = os.path.join(expdir, 'params.json')\n",
    "with open(param_filename, 'r') as f:\n",
    "    params = bunch.Bunch(json.load(f))"
   ]
  },
  {
   "cell_type": "code",
   "execution_count": 9,
   "metadata": {
    "collapsed": false
   },
   "outputs": [
    {
     "name": "stdout",
     "output_type": "stream",
     "text": [
      "loaded 100 sentences\n"
     ]
    }
   ],
   "source": [
    "dataset = Dataset(max_len=params.max_len + 1,\n",
    "                  preshuffle=False,\n",
    "                  batch_size=10)\n",
    "dataset.ReadData(datafile, params.context_vars + ['text'],\n",
    "               mode='all', splitter=params.splitter, limit=100)\n"
   ]
  },
  {
   "cell_type": "code",
   "execution_count": 10,
   "metadata": {
    "collapsed": false
   },
   "outputs": [],
   "source": [
    "vocab = Vocab.Load(os.path.join(expdir, 'word_vocab.pickle'))\n",
    "with open(os.path.join(expdir, 'context_vocab.pickle'), 'rb') as f:\n",
    "    context_vocabs = pickle.load(f)"
   ]
  },
  {
   "cell_type": "code",
   "execution_count": 11,
   "metadata": {
    "collapsed": false
   },
   "outputs": [],
   "source": [
    "unigram_probs = vocab.GetUnigramProbs()\n",
    "params.batch_size = 10\n",
    "use_nce_loss = False\n",
    "tf.reset_default_graph()\n",
    "model = HyperModel(\n",
    "  params, unigram_probs,\n",
    "  [len(context_vocabs[v]) for v in params.context_vars],\n",
    "  use_nce_loss=use_nce_loss)\n"
   ]
  },
  {
   "cell_type": "code",
   "execution_count": 12,
   "metadata": {
    "collapsed": false
   },
   "outputs": [],
   "source": [
    "saver = tf.train.Saver(tf.all_variables())\n",
    "session = tf.Session()\n",
    "\n",
    "def GetFeedDict(batch, use_dropout=True):\n",
    "  s = np.array(list(batch.text.values))  # hacky                                                                           \n",
    "  feed_dict = {\n",
    "    model.word_ids: s,\n",
    "    model.seq_len: batch.seq_lens.values,\n",
    "    model.dropout_keep_prob: params.dropout_keep_prob\n",
    "  }\n",
    "\n",
    "  if hasattr(model, 'context_placeholders'):\n",
    "    for context_var in params.context_vars:\n",
    "      placeholder = model.context_placeholders[context_var]\n",
    "      feed_dict[placeholder] = batch[context_var].values\n",
    "\n",
    "  if not use_dropout:\n",
    "    del feed_dict[model.dropout_keep_prob]\n",
    "\n",
    "  return feed_dict\n"
   ]
  },
  {
   "cell_type": "code",
   "execution_count": 13,
   "metadata": {
    "collapsed": false
   },
   "outputs": [],
   "source": [
    "dataset.Prepare(vocab, context_vocabs)\n",
    "num_batches = dataset.GetNumBatches()\n"
   ]
  },
  {
   "cell_type": "code",
   "execution_count": 14,
   "metadata": {
    "collapsed": false
   },
   "outputs": [
    {
     "name": "stdout",
     "output_type": "stream",
     "text": [
      "loading model\n"
     ]
    }
   ],
   "source": [
    "print 'loading model'\n",
    "saver.restore(session, os.path.join(expdir, 'model.bin'))"
   ]
  },
  {
   "cell_type": "code",
   "execution_count": 15,
   "metadata": {
    "collapsed": false
   },
   "outputs": [],
   "source": [
    "features = []\n",
    "labels = []\n",
    "for _ in xrange(min(dataset.GetNumBatches(), 200)):\n",
    "    batch = dataset.GetNextBatch()\n",
    "    feed_dict = GetFeedDict(batch, use_dropout=False)\n",
    "    a = session.run(model.zz, feed_dict)\n",
    "    features.append(a.c)\n",
    "    labels.append(batch.lang)"
   ]
  },
  {
   "cell_type": "code",
   "execution_count": 16,
   "metadata": {
    "collapsed": false
   },
   "outputs": [],
   "source": [
    "all_features2 = np.vstack(features)\n",
    "all_labels2 = np.hstack(labels)"
   ]
  },
  {
   "cell_type": "code",
   "execution_count": 17,
   "metadata": {
    "collapsed": false
   },
   "outputs": [
    {
     "ename": "NameError",
     "evalue": "name 'all_features' is not defined",
     "output_type": "error",
     "traceback": [
      "\u001b[0;31m---------------------------------------------------------------------------\u001b[0m",
      "\u001b[0;31mNameError\u001b[0m                                 Traceback (most recent call last)",
      "\u001b[0;32m<ipython-input-17-5be029aa7ceb>\u001b[0m in \u001b[0;36m<module>\u001b[0;34m()\u001b[0m\n\u001b[0;32m----> 1\u001b[0;31m \u001b[0mall_features\u001b[0m\u001b[0;34m.\u001b[0m\u001b[0mshape\u001b[0m\u001b[0;34m,\u001b[0m \u001b[0mall_labels\u001b[0m\u001b[0;34m.\u001b[0m\u001b[0mshape\u001b[0m\u001b[0;34m,\u001b[0m \u001b[0mall_features2\u001b[0m\u001b[0;34m.\u001b[0m\u001b[0mshape\u001b[0m\u001b[0;34m,\u001b[0m \u001b[0mall_labels2\u001b[0m\u001b[0;34m.\u001b[0m\u001b[0mshape\u001b[0m\u001b[0;34m\u001b[0m\u001b[0m\n\u001b[0m",
      "\u001b[0;31mNameError\u001b[0m: name 'all_features' is not defined"
     ]
    }
   ],
   "source": [
    "all_features.shape, all_labels.shape, all_features2.shape, all_labels2.shape"
   ]
  },
  {
   "cell_type": "code",
   "execution_count": 18,
   "metadata": {
    "collapsed": true
   },
   "outputs": [],
   "source": [
    "from matplotlib import pyplot"
   ]
  },
  {
   "cell_type": "code",
   "execution_count": 19,
   "metadata": {
    "collapsed": false
   },
   "outputs": [],
   "source": [
    "from sklearn import linear_model\n",
    "logreg = linear_model.LogisticRegression(C=0.1, penalty='l1')"
   ]
  },
  {
   "cell_type": "code",
   "execution_count": 364,
   "metadata": {
    "collapsed": false
   },
   "outputs": [
    {
     "data": {
      "text/plain": [
       "LogisticRegression(C=0.1, class_weight=None, dual=False, fit_intercept=True,\n",
       "          intercept_scaling=1, max_iter=100, multi_class='ovr', n_jobs=1,\n",
       "          penalty='l1', random_state=None, solver='liblinear', tol=0.0001,\n",
       "          verbose=0, warm_start=False)"
      ]
     },
     "execution_count": 364,
     "metadata": {},
     "output_type": "execute_result"
    }
   ],
   "source": [
    "logreg.fit(all_features2, all_labels2)"
   ]
  },
  {
   "cell_type": "code",
   "execution_count": 365,
   "metadata": {
    "collapsed": false
   },
   "outputs": [
    {
     "data": {
      "text/plain": [
       "12208"
      ]
     },
     "execution_count": 365,
     "metadata": {},
     "output_type": "execute_result"
    }
   ],
   "source": [
    "(logreg.predict(all_features) == all_labels).sum() "
   ]
  },
  {
   "cell_type": "code",
   "execution_count": 366,
   "metadata": {
    "collapsed": false
   },
   "outputs": [
    {
     "data": {
      "text/plain": [
       "0.9049285714285714"
      ]
     },
     "execution_count": 366,
     "metadata": {},
     "output_type": "execute_result"
    }
   ],
   "source": [
    "12669.0 / len(all_labels)"
   ]
  },
  {
   "cell_type": "code",
   "execution_count": 367,
   "metadata": {
    "collapsed": false
   },
   "outputs": [
    {
     "data": {
      "text/plain": [
       "0.9215"
      ]
     },
     "execution_count": 367,
     "metadata": {},
     "output_type": "execute_result"
    }
   ],
   "source": [
    "12901.0 / len(all_labels)"
   ]
  },
  {
   "cell_type": "code",
   "execution_count": null,
   "metadata": {
    "collapsed": true
   },
   "outputs": [],
   "source": []
  },
  {
   "cell_type": "code",
   "execution_count": 484,
   "metadata": {
    "collapsed": false
   },
   "outputs": [
    {
     "data": {
      "image/png": "[encoded data removed]",
      "text/plain": [
       "<matplotlib.figure.Figure at 0x7f954136ee10>"
      ]
     },
     "metadata": {},
     "output_type": "display_data"
    }
   ],
   "source": [
    "pyplot.plot(logreg.coef_.T[:, 2])\n",
    "pyplot.show()"
   ]
  },
  {
   "cell_type": "code",
   "execution_count": 482,
   "metadata": {
    "collapsed": false
   },
   "outputs": [
    {
     "data": {
      "text/plain": [
       "'es'"
      ]
     },
     "execution_count": 482,
     "metadata": {},
     "output_type": "execute_result"
    }
   ],
   "source": [
    "context_vocabs['lang'][3]"
   ]
  },
  {
   "cell_type": "code",
   "execution_count": 393,
   "metadata": {
    "collapsed": true
   },
   "outputs": [],
   "source": [
    "from metrics import Metrics"
   ]
  },
  {
   "cell_type": "code",
   "execution_count": 394,
   "metadata": {
    "collapsed": false
   },
   "outputs": [
    {
     "name": "stdout",
     "output_type": "stream",
     "text": [
      "accuracy = 0.872\n",
      " Lang     Prec.   Rec.   F1\n",
      "------------------------------\n",
      "       0   61.62  46.55  53.03\n",
      "       1   66.67   4.10   7.73\n",
      "       2   91.04  97.55  94.18\n",
      "       3   86.81  94.48  90.48\n",
      "       4   95.97  68.39  79.87\n",
      "       5   61.39  40.51  48.81\n",
      "       6    0.00   0.00   0.00\n",
      "       7    0.00   0.00   0.00\n",
      "       8   88.16  95.25  91.57\n",
      "------------------------------\n",
      "  Total:   61.29  49.65  51.74\n"
     ]
    }
   ],
   "source": [
    "Metrics(list(logreg.predict(all_features)), list(all_labels));"
   ]
  },
  {
   "cell_type": "code",
   "execution_count": 617,
   "metadata": {
    "collapsed": true
   },
   "outputs": [],
   "source": [
    "batch = dataset.GetNextBatch()\n",
    "feed_dict = GetFeedDict(batch, use_dropout=False)\n",
    "a = session.run(model.outputs, feed_dict)"
   ]
  },
  {
   "cell_type": "code",
   "execution_count": 618,
   "metadata": {
    "collapsed": false
   },
   "outputs": [
    {
     "data": {
      "text/html": [
       "<div>\n",
       "<table border=\"1\" class=\"dataframe\">\n",
       "  <thead>\n",
       "    <tr style=\"text-align: right;\">\n",
       "      <th></th>\n",
       "      <th>lang</th>\n",
       "      <th>text</th>\n",
       "      <th>seq_lens</th>\n",
       "    </tr>\n",
       "  </thead>\n",
       "  <tbody>\n",
       "    <tr>\n",
       "      <th>60</th>\n",
       "      <td>2</td>\n",
       "      <td>[32, 72, 84, 75, 75, 74, 74, 15, 78, 88, 15, 7...</td>\n",
       "      <td>63</td>\n",
       "    </tr>\n",
       "    <tr>\n",
       "      <th>61</th>\n",
       "      <td>2</td>\n",
       "      <td>[32, 56, 74, 76, 90, 78, 82, 84, 88, 2, 72, 84...</td>\n",
       "      <td>99</td>\n",
       "    </tr>\n",
       "    <tr>\n",
       "      <th>62</th>\n",
       "      <td>2</td>\n",
       "      <td>[32, 78, 75, 2, 82, 94, 2, 76, 78, 87, 81, 2, ...</td>\n",
       "      <td>40</td>\n",
       "    </tr>\n",
       "    <tr>\n",
       "      <th>63</th>\n",
       "      <td>2</td>\n",
       "      <td>[32, 84, 71, 91, 78, 84, 84, 84, 84, 84, 14, 2...</td>\n",
       "      <td>48</td>\n",
       "    </tr>\n",
       "    <tr>\n",
       "      <th>64</th>\n",
       "      <td>2</td>\n",
       "      <td>[32, 5, 2, 87, 74, 83, 90, 83, 72, 78, 70, 2, ...</td>\n",
       "      <td>17</td>\n",
       "    </tr>\n",
       "    <tr>\n",
       "      <th>65</th>\n",
       "      <td>2</td>\n",
       "      <td>[32, 52, 2, 85, 70, 88, 88, 70, 73, 84, 2, 72,...</td>\n",
       "      <td>69</td>\n",
       "    </tr>\n",
       "    <tr>\n",
       "      <th>66</th>\n",
       "      <td>2</td>\n",
       "      <td>[32, 38, 87, 74, 2, 94, 84, 90, 2, 87, 74, 70,...</td>\n",
       "      <td>86</td>\n",
       "    </tr>\n",
       "    <tr>\n",
       "      <th>67</th>\n",
       "      <td>2</td>\n",
       "      <td>[32, 78, 76, 90, 70, 81, 2, 94, 84, 2, 89, 70,...</td>\n",
       "      <td>43</td>\n",
       "    </tr>\n",
       "    <tr>\n",
       "      <th>68</th>\n",
       "      <td>2</td>\n",
       "      <td>[32, 57, 77, 74, 2, 92, 70, 81, 80, 78, 83, 76...</td>\n",
       "      <td>70</td>\n",
       "    </tr>\n",
       "    <tr>\n",
       "      <th>69</th>\n",
       "      <td>2</td>\n",
       "      <td>[32, 84, 82, 76, 2, 88, 84, 94, 2, 89, 70, 83,...</td>\n",
       "      <td>118</td>\n",
       "    </tr>\n",
       "  </tbody>\n",
       "</table>\n",
       "</div>"
      ],
      "text/plain": [
       "    lang                                               text  seq_lens\n",
       "60     2  [32, 72, 84, 75, 75, 74, 74, 15, 78, 88, 15, 7...        63\n",
       "61     2  [32, 56, 74, 76, 90, 78, 82, 84, 88, 2, 72, 84...        99\n",
       "62     2  [32, 78, 75, 2, 82, 94, 2, 76, 78, 87, 81, 2, ...        40\n",
       "63     2  [32, 84, 71, 91, 78, 84, 84, 84, 84, 84, 14, 2...        48\n",
       "64     2  [32, 5, 2, 87, 74, 83, 90, 83, 72, 78, 70, 2, ...        17\n",
       "65     2  [32, 52, 2, 85, 70, 88, 88, 70, 73, 84, 2, 72,...        69\n",
       "66     2  [32, 38, 87, 74, 2, 94, 84, 90, 2, 87, 74, 70,...        86\n",
       "67     2  [32, 78, 76, 90, 70, 81, 2, 94, 84, 2, 89, 70,...        43\n",
       "68     2  [32, 57, 77, 74, 2, 92, 70, 81, 80, 78, 83, 76...        70\n",
       "69     2  [32, 84, 82, 76, 2, 88, 84, 94, 2, 89, 70, 83,...       118"
      ]
     },
     "execution_count": 618,
     "metadata": {},
     "output_type": "execute_result"
    }
   ],
   "source": [
    "batch"
   ]
  },
  {
   "cell_type": "code",
   "execution_count": 619,
   "metadata": {
    "collapsed": false
   },
   "outputs": [
    {
     "data": {
      "text/plain": [
       "(9, 281)"
      ]
     },
     "execution_count": 619,
     "metadata": {},
     "output_type": "execute_result"
    }
   ],
   "source": [
    "np.argmax(logreg.coef_.T[:, 2]), np.argmin(logreg.coef_.T[:, 2])"
   ]
  },
  {
   "cell_type": "code",
   "execution_count": 643,
   "metadata": {
    "collapsed": false,
    "scrolled": true
   },
   "outputs": [
    {
     "data": {
      "image/png": "[encoded data removed]",
      "text/plain": [
       "<matplotlib.figure.Figure at 0x7f95415c47d0>"
      ]
     },
     "metadata": {},
     "output_type": "display_data"
    }
   ],
   "source": [
    "sample = 8\n",
    "pyplot.plot(a[sample, :, 9])\n",
    "pyplot.plot(a[sample, :, 281])\n",
    "#pyplot.plot(logreg.predict_proba(a[sample, :, :]))\n",
    "pyplot.legend(['max', 'min'])\n",
    "pyplot.show()"
   ]
  },
  {
   "cell_type": "code",
   "execution_count": 644,
   "metadata": {
    "collapsed": false,
    "scrolled": true
   },
   "outputs": [
    {
     "data": {
      "text/plain": [
       "u'<S>The walking dead, Lost, Ouscast , breaking bad   mira alguna de esas</S></S></S></S></S></S></S></S></S></S></S></S></S></S></S></S></S></S></S></S></S></S></S></S></S></S></S></S></S></S></S></S></S></S></S></S></S></S></S></S></S></S></S></S></S></S></S></S></S></S></S></S></S></S></S></S></S></S></S></S></S></S></S></S></S></S></S></S></S></S></S></S></S></S></S></S></S></S></S></S></S></S></S></S></S></S></S></S></S></S></S></S></S></S></S></S></S></S></S></S></S></S></S></S></S></S></S></S></S></S></S></S></S></S></S></S></S></S></S></S></S></S></S></S></S></S></S></S></S></S></S></S>'"
      ]
     },
     "execution_count": 644,
     "metadata": {},
     "output_type": "execute_result"
    }
   ],
   "source": [
    "''.join([vocab[q] for q in batch.text.iloc[sample]]).decode('utf8')"
   ]
  },
  {
   "cell_type": "code",
   "execution_count": 645,
   "metadata": {
    "collapsed": true
   },
   "outputs": [],
   "source": [
    "def rgb_to_hex(red, green, blue, _):\n",
    "    \"\"\"Return color as #rrggbb for the given color values.\"\"\"\n",
    "    return '#%02x%02x%02x' % (255 * red, 255 * green, 255 * blue)"
   ]
  },
  {
   "cell_type": "code",
   "execution_count": 646,
   "metadata": {
    "collapsed": false
   },
   "outputs": [
    {
     "data": {
      "text/plain": [
       "(-0.57142514, 0.39033422)"
      ]
     },
     "execution_count": 646,
     "metadata": {},
     "output_type": "execute_result"
    }
   ],
   "source": [
    "min(scores), max(scores)"
   ]
  },
  {
   "cell_type": "code",
   "execution_count": 647,
   "metadata": {
    "collapsed": false,
    "scrolled": false
   },
   "outputs": [
    {
     "name": "stdout",
     "output_type": "stream",
     "text": [
      "<span style=\"background-color:#ff4fb0\"><S></span><span style=\"background-color:#ff49b5\">T</span><span style=\"background-color:#ff9669\">h</span><span style=\"background-color:#ff9c62\">e</span><span style=\"background-color:#fffe00\"> </span><span style=\"background-color:#ffef10\">w</span><span style=\"background-color:#fffd01\">a</span><span style=\"background-color:#ffff00\">l</span><span style=\"background-color:#fffb04\">k</span><span style=\"background-color:#fffd01\">i</span><span style=\"background-color:#fffe00\">n</span><span style=\"background-color:#fffb04\">g</span><span style=\"background-color:#ffff00\"> </span><span style=\"background-color:#fff509\">d</span><span style=\"background-color:#fff20d\">e</span><span style=\"background-color:#fff10e\">a</span><span style=\"background-color:#ffed11\">d</span><span style=\"background-color:#fff708\">,</span><span style=\"background-color:#ffee10\"> </span><span style=\"background-color:#fff10e\">L</span><span style=\"background-color:#ffc837\">o</span><span style=\"background-color:#ffd529\">s</span><span style=\"background-color:#ffcf30\">t</span><span style=\"background-color:#ffd628\">,</span><span style=\"background-color:#ffcc32\"> </span><span style=\"background-color:#ffd827\">O</span><span style=\"background-color:#ffb14e\">u</span><span style=\"background-color:#ffd22d\">s</span><span style=\"background-color:#ffd529\">c</span><span style=\"background-color:#ffd529\">a</span><span style=\"background-color:#ffc03f\">s</span><span style=\"background-color:#ffc33c\">t</span><span style=\"background-color:#ffca35\"> </span><span style=\"background-color:#ffc936\">,</span><span style=\"background-color:#ffbf40\"> </span><span style=\"background-color:#ffc539\">b</span><span style=\"background-color:#ffd32b\">r</span><span style=\"background-color:#ffdb24\">e</span><span style=\"background-color:#ffdb24\">a</span><span style=\"background-color:#ffd32c\">k</span><span style=\"background-color:#ffdb24\">i</span><span style=\"background-color:#ffe01f\">n</span><span style=\"background-color:#ffda25\">g</span><span style=\"background-color:#ffea15\"> </span><span style=\"background-color:#ffdd21\">b</span><span style=\"background-color:#ffe519\">a</span><span style=\"background-color:#ffe01f\">d</span><span style=\"background-color:#ffe31c\"> </span><span style=\"background-color:#ffec12\"> </span><span style=\"background-color:#ffde20\"> </span><span style=\"background-color:#ffc33b\">m</span><span style=\"background-color:#ffcc32\">i</span><span style=\"background-color:#ffe01f\">r</span><span style=\"background-color:#ffc33b\">a</span><span style=\"background-color:#ffb34b\"> </span><span style=\"background-color:#ff8778\">a</span><span style=\"background-color:#ff8679\">l</span><span style=\"background-color:#ff8d71\">g</span><span style=\"background-color:#ff817e\">u</span><span style=\"background-color:#ff8976\">n</span><span style=\"background-color:#ff758a\">a</span><span style=\"background-color:#ff619d\"> </span><span style=\"background-color:#ff2cd2\">d</span><span style=\"background-color:#ff26d9\">e</span><span style=\"background-color:#ff2fd0\"> </span><span style=\"background-color:#ff22dd\">e</span><span style=\"background-color:#ff1de2\">s</span><span style=\"background-color:#ff00ff\">a</span><span style=\"background-color:#ff33cc\">s</span><span style=\"background-color:#ff41bd\"></S></span><span style=\"background-color:#ff55aa\"></S></span><span style=\"background-color:#ff55aa\"></S></span><span style=\"background-color:#ff55aa\"></S></span><span style=\"background-color:#ff55aa\"></S></span><span style=\"background-color:#ff55aa\"></S></span><span style=\"background-color:#ff55aa\"></S></span><span style=\"background-color:#ff55aa\"></S></span><span style=\"background-color:#ff55aa\"></S></span><span style=\"background-color:#ff55aa\"></S></span><span style=\"background-color:#ff55aa\"></S></span><span style=\"background-color:#ff55aa\"></S></span><span style=\"background-color:#ff55aa\"></S></span><span style=\"background-color:#ff55aa\"></S></span><span style=\"background-color:#ff55aa\"></S></span><span style=\"background-color:#ff55aa\"></S></span><span style=\"background-color:#ff55aa\"></S></span><span style=\"background-color:#ff55aa\"></S></span><span style=\"background-color:#ff55aa\"></S></span><span style=\"background-color:#ff55aa\"></S></span><span style=\"background-color:#ff55aa\"></S></span><span style=\"background-color:#ff55aa\"></S></span><span style=\"background-color:#ff55aa\"></S></span><span style=\"background-color:#ff55aa\"></S></span><span style=\"background-color:#ff55aa\"></S></span><span style=\"background-color:#ff55aa\"></S></span><span style=\"background-color:#ff55aa\"></S></span><span style=\"background-color:#ff55aa\"></S></span><span style=\"background-color:#ff55aa\"></S></span><span style=\"background-color:#ff55aa\"></S></span><span style=\"background-color:#ff55aa\"></S></span><span style=\"background-color:#ff55aa\"></S></span><span style=\"background-color:#ff55aa\"></S></span><span style=\"background-color:#ff55aa\"></S></span><span style=\"background-color:#ff55aa\"></S></span><span style=\"background-color:#ff55aa\"></S></span><span style=\"background-color:#ff55aa\"></S></span><span style=\"background-color:#ff55aa\"></S></span><span style=\"background-color:#ff55aa\"></S></span><span style=\"background-color:#ff55aa\"></S></span><span style=\"background-color:#ff55aa\"></S></span><span style=\"background-color:#ff55aa\"></S></span><span style=\"background-color:#ff55aa\"></S></span><span style=\"background-color:#ff55aa\"></S></span><span style=\"background-color:#ff55aa\"></S></span><span style=\"background-color:#ff55aa\"></S></span><span style=\"background-color:#ff55aa\"></S></span><span style=\"background-color:#ff55aa\"></S></span><span style=\"background-color:#ff55aa\"></S></span><span style=\"background-color:#ff55aa\"></S></span><span style=\"background-color:#ff55aa\"></S></span><span style=\"background-color:#ff55aa\"></S></span><span style=\"background-color:#ff55aa\"></S></span><span style=\"background-color:#ff55aa\"></S></span><span style=\"background-color:#ff55aa\"></S></span><span style=\"background-color:#ff55aa\"></S></span><span style=\"background-color:#ff55aa\"></S></span><span style=\"background-color:#ff55aa\"></S></span><span style=\"background-color:#ff55aa\"></S></span><span style=\"background-color:#ff55aa\"></S></span><span style=\"background-color:#ff55aa\"></S></span><span style=\"background-color:#ff55aa\"></S></span><span style=\"background-color:#ff55aa\"></S></span><span style=\"background-color:#ff55aa\"></S></span><span style=\"background-color:#ff55aa\"></S></span><span style=\"background-color:#ff55aa\"></S></span><span style=\"background-color:#ff55aa\"></S></span><span style=\"background-color:#ff55aa\"></S></span><span style=\"background-color:#ff55aa\"></S></span><span style=\"background-color:#ff55aa\"></S></span><span style=\"background-color:#ff55aa\"></S></span><span style=\"background-color:#ff55aa\"></S></span><span style=\"background-color:#ff55aa\"></S></span><span style=\"background-color:#ff55aa\"></S></span><span style=\"background-color:#ff55aa\"></S></span><span style=\"background-color:#ff55aa\"></S></span><span style=\"background-color:#ff55aa\"></S></span><span style=\"background-color:#ff55aa\"></S></span><span style=\"background-color:#ff55aa\"></S></span><span style=\"background-color:#ff55aa\"></S></span><span style=\"background-color:#ff55aa\"></S></span><span style=\"background-color:#ff55aa\"></S></span><span style=\"background-color:#ff55aa\"></S></span><span style=\"background-color:#ff55aa\"></S></span><span style=\"background-color:#ff55aa\"></S></span><span style=\"background-color:#ff55aa\"></S></span><span style=\"background-color:#ff55aa\"></S></span><span style=\"background-color:#ff55aa\"></S></span><span style=\"background-color:#ff55aa\"></S></span><span style=\"background-color:#ff55aa\"></S></span><span style=\"background-color:#ff55aa\"></S></span><span style=\"background-color:#ff55aa\"></S></span><span style=\"background-color:#ff55aa\"></S></span><span style=\"background-color:#ff55aa\"></S></span><span style=\"background-color:#ff55aa\"></S></span><span style=\"background-color:#ff55aa\"></S></span><span style=\"background-color:#ff55aa\"></S></span><span style=\"background-color:#ff55aa\"></S></span><span style=\"background-color:#ff55aa\"></S></span><span style=\"background-color:#ff55aa\"></S></span><span style=\"background-color:#ff55aa\"></S></span><span style=\"background-color:#ff55aa\"></S></span><span style=\"background-color:#ff55aa\"></S></span><span style=\"background-color:#ff55aa\"></S></span><span style=\"background-color:#ff55aa\"></S></span><span style=\"background-color:#ff55aa\"></S></span><span style=\"background-color:#ff55aa\"></S></span><span style=\"background-color:#ff55aa\"></S></span><span style=\"background-color:#ff55aa\"></S></span><span style=\"background-color:#ff55aa\"></S></span><span style=\"background-color:#ff55aa\"></S></span><span style=\"background-color:#ff55aa\"></S></span><span style=\"background-color:#ff55aa\"></S></span><span style=\"background-color:#ff55aa\"></S></span><span style=\"background-color:#ff55aa\"></S></span><span style=\"background-color:#ff55aa\"></S></span><span style=\"background-color:#ff55aa\"></S></span><span style=\"background-color:#ff55aa\"></S></span><span style=\"background-color:#ff55aa\"></S></span><span style=\"background-color:#ff55aa\"></S></span><span style=\"background-color:#ff55aa\"></S></span><span style=\"background-color:#ff55aa\"></S></span><span style=\"background-color:#ff55aa\"></S></span><span style=\"background-color:#ff55aa\"></S></span><span style=\"background-color:#ff55aa\"></S></span><span style=\"background-color:#ff55aa\"></S></span><span style=\"background-color:#ff55aa\"></S></span><span style=\"background-color:#ff55aa\"></S></span><span style=\"background-color:#ff55aa\"></S></span><span style=\"background-color:#ff55aa\"></S></span><span style=\"background-color:#ff55aa\"></S></span>\n"
     ]
    }
   ],
   "source": [
    "import matplotlib\n",
    "phrase = [vocab[q] for q in batch.text.iloc[sample]]\n",
    "scores = a[sample, :, 9]\n",
    "cmap = pyplot.cm.spring\n",
    "norm = matplotlib.colors.Normalize(vmin=min(scores), vmax=max(scores))\n",
    "code=''\n",
    "for char, score in zip(phrase, scores):\n",
    "    color = cmap(norm(score))\n",
    "    rgb = rgb_to_hex(*color)\n",
    "    code += '<span style=\"background-color:{1}\">{0}</span>'.format(char, rgb)\n",
    "print code"
   ]
  },
  {
   "cell_type": "code",
   "execution_count": 146,
   "metadata": {
    "collapsed": false
   },
   "outputs": [
    {
     "data": {
      "text/html": [
       "<div>\n",
       "<table border=\"1\" class=\"dataframe\">\n",
       "  <thead>\n",
       "    <tr style=\"text-align: right;\">\n",
       "      <th></th>\n",
       "      <th>lang</th>\n",
       "      <th>text</th>\n",
       "    </tr>\n",
       "  </thead>\n",
       "  <tbody>\n",
       "    <tr>\n",
       "      <th>0</th>\n",
       "      <td>es</td>\n",
       "      <td>Alemania vs Argentina, la tercera es la vencid...</td>\n",
       "    </tr>\n",
       "    <tr>\n",
       "      <th>1</th>\n",
       "      <td>en</td>\n",
       "      <td>I have gained level 39 in The Tribez and Castl...</td>\n",
       "    </tr>\n",
       "    <tr>\n",
       "      <th>2</th>\n",
       "      <td>pt</td>\n",
       "      <td>Finalmente é sexta, mas ainda tenho teste</td>\n",
       "    </tr>\n",
       "    <tr>\n",
       "      <th>3</th>\n",
       "      <td>fr</td>\n",
       "      <td>#Marée ↗ #Mimizan 14/04/2016 UTC+2 Basse mer 1...</td>\n",
       "    </tr>\n",
       "    <tr>\n",
       "      <th>4</th>\n",
       "      <td>es</td>\n",
       "      <td>Que ganitas de poder ir al gym jupe..</td>\n",
       "    </tr>\n",
       "  </tbody>\n",
       "</table>\n",
       "</div>"
      ],
      "text/plain": [
       "  lang                                               text\n",
       "0   es  Alemania vs Argentina, la tercera es la vencid...\n",
       "1   en  I have gained level 39 in The Tribez and Castl...\n",
       "2   pt          Finalmente é sexta, mas ainda tenho teste\n",
       "3   fr  #Marée ↗ #Mimizan 14/04/2016 UTC+2 Basse mer 1...\n",
       "4   es              Que ganitas de poder ir al gym jupe.."
      ]
     },
     "execution_count": 146,
     "metadata": {},
     "output_type": "execute_result"
    }
   ],
   "source": [
    "df = pandas.read_csv('/g/ssli/data/LowResourceLM/tweets/train.tsv.gz', compression='gzip', sep='\\t',\n",
    "               header=None)\n",
    "df.columns = ['lang', 'text']\n",
    "df.head()"
   ]
  },
  {
   "cell_type": "code",
   "execution_count": 224,
   "metadata": {
    "collapsed": true
   },
   "outputs": [],
   "source": [
    "samples = []\n",
    "grps = df.groupby('lang')\n",
    "for lang, g in grps:\n",
    "    sample = g.sample(30)\n",
    "    samples.append(sample)"
   ]
  },
  {
   "cell_type": "code",
   "execution_count": 225,
   "metadata": {
    "collapsed": false
   },
   "outputs": [],
   "source": [
    "selection = pandas.concat(samples)\n"
   ]
  },
  {
   "cell_type": "code",
   "execution_count": 226,
   "metadata": {
    "collapsed": false
   },
   "outputs": [],
   "source": [
    "selection.to_csv('/g/ssli/data/LowResourceLM/tweets/sample.tsv.gz', compression='gzip', sep='\\t',\n",
    "                header=None, index=None)"
   ]
  },
  {
   "cell_type": "code",
   "execution_count": 227,
   "metadata": {
    "collapsed": false
   },
   "outputs": [
    {
     "ename": "AttributeError",
     "evalue": "'list' object has no attribute 'shape'",
     "output_type": "error",
     "traceback": [
      "\u001b[0;31m---------------------------------------------------------------------------\u001b[0m",
      "\u001b[0;31mAttributeError\u001b[0m                            Traceback (most recent call last)",
      "\u001b[0;32m<ipython-input-227-06d97317ce99>\u001b[0m in \u001b[0;36m<module>\u001b[0;34m()\u001b[0m\n\u001b[0;32m----> 1\u001b[0;31m \u001b[0mfeatures\u001b[0m\u001b[0;34m.\u001b[0m\u001b[0mshape\u001b[0m\u001b[0;34m\u001b[0m\u001b[0m\n\u001b[0m",
      "\u001b[0;31mAttributeError\u001b[0m: 'list' object has no attribute 'shape'"
     ]
    }
   ],
   "source": [
    "features.shape"
   ]
  },
  {
   "cell_type": "code",
   "execution_count": null,
   "metadata": {
    "collapsed": true
   },
   "outputs": [],
   "source": []
  }
 ],
 "metadata": {
  "kernelspec": {
   "display_name": "Python 2",
   "language": "python",
   "name": "python2"
  },
  "language_info": {
   "codemirror_mode": {
    "name": "ipython",
    "version": 2
   },
   "file_extension": ".py",
   "mimetype": "text/x-python",
   "name": "python",
   "nbconvert_exporter": "python",
   "pygments_lexer": "ipython2",
   "version": "2.7.11"
  }
 },
 "nbformat": 4,
 "nbformat_minor": 2
}
