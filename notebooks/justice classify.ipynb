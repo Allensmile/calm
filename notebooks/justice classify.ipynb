{
 "cells": [
  {
   "cell_type": "code",
   "execution_count": 1,
   "metadata": {
    "collapsed": true
   },
   "outputs": [],
   "source": [
    "import pandas\n",
    "import numpy as np\n",
    "from metrics import Metrics\n",
    "from sklearn import metrics\n",
    "import glob\n",
    "import collections\n",
    "import os\n",
    "import json\n",
    "from matplotlib import pyplot"
   ]
  },
  {
   "cell_type": "code",
   "execution_count": 2,
   "metadata": {
    "collapsed": false
   },
   "outputs": [
    {
     "name": "stdout",
     "output_type": "stream",
     "text": [
      "loaded 216232 sentences\n"
     ]
    }
   ],
   "source": [
    "from dataset import Dataset\n",
    "dataset = Dataset(max_len=54, preshuffle=False, batch_size=10)\n",
    "dataset.ReadData('/g/ssli/data/scotus/aaron/scotus_big.tsv.gz', ['case', 'person', 'role', 'text'], mode='eval', \n",
    "                splitter='word', limit=15000000)"
   ]
  },
  {
   "cell_type": "code",
   "execution_count": 16,
   "metadata": {
    "collapsed": false
   },
   "outputs": [
    {
     "data": {
      "text/plain": [
       "Counter({'anthony_kennedy': 4537,\n",
       "         'anthony_m_kennedy': 96,\n",
       "         'antonin_scalia': 10907,\n",
       "         'byron_r_white': 30,\n",
       "         'clarence_thomas': 19,\n",
       "         'david_h_souter': 5781,\n",
       "         'elena_kagan': 532,\n",
       "         'harry_a_blackmun': 17,\n",
       "         'john_g_roberts_jr': 5328,\n",
       "         'john_paul_stevens': 3929,\n",
       "         'ruth_bader_ginsburg': 6604,\n",
       "         'samuel_a_alito_jr': 1298,\n",
       "         'samuel_alito_jr': 126,\n",
       "         'sandra_day_oconnor': 1997,\n",
       "         'sonia_sotomayor': 1466,\n",
       "         'stephen_g_breyer': 11453,\n",
       "         'unidentified_justice': 122,\n",
       "         'william_h_rehnquist': 3477})"
      ]
     },
     "execution_count": 16,
     "metadata": {},
     "output_type": "execute_result"
    }
   ],
   "source": [
    "collections.Counter(dataset.data.person[dataset.data.role == 'justice'])"
   ]
  },
  {
   "cell_type": "code",
   "execution_count": 34,
   "metadata": {
    "collapsed": false
   },
   "outputs": [],
   "source": [
    "subreddits = ['antonin_scalia', 'john_paul_stevens', 'anthony_kennedy',\n",
    "       'david_h_souter', 'william_h_rehnquist', 'stephen_g_breyer',\n",
    "       'sandra_day_oconnor', 'ruth_bader_ginsburg',\n",
    "       'samuel_a_alito_jr', 'sonia_sotomayor', 'john_g_roberts_jr']\n",
    "\n",
    "def MakePredictions(filename):\n",
    "    df = pandas.read_csv(filename, index_col=0)\n",
    "    \n",
    "    df[subreddits] = df[subreddits].sub(df[subreddits].mean(axis=1), axis=0)\n",
    "            \n",
    "    ss = np.array(subreddits)\n",
    "    df['pred'] = ss[np.argmin(df[subreddits].values, axis=1)]\n",
    "\n",
    "    return df"
   ]
  },
  {
   "cell_type": "code",
   "execution_count": 35,
   "metadata": {
    "collapsed": false
   },
   "outputs": [],
   "source": [
    "def GetPPL(filename):\n",
    "    dirname = os.path.dirname(filename)\n",
    "    pplfile = os.path.join(dirname, 'ppl.txt')\n",
    "    if os.path.exists(pplfile):\n",
    "        with open(pplfile, 'r') as f:\n",
    "          lines = f.readlines()\n",
    "        if len(lines):\n",
    "            ppl = lines[-1].split()[-1]\n",
    "            return ppl\n",
    "    return None"
   ]
  },
  {
   "cell_type": "code",
   "execution_count": 49,
   "metadata": {
    "collapsed": true
   },
   "outputs": [],
   "source": [
    "def GetParams(filename):\n",
    "    dirname = os.path.dirname(filename)\n",
    "    paramsfile = os.path.join(dirname, 'params.json')\n",
    "    with open(paramsfile, 'r') as g:\n",
    "        params = json.load(g)\n",
    "    return params"
   ]
  },
  {
   "cell_type": "code",
   "execution_count": 51,
   "metadata": {
    "collapsed": false
   },
   "outputs": [],
   "source": [
    "def GetAuc(sub, df):\n",
    "    fpr, tpr, thresholds = metrics.roc_curve(df.label == sub, -df[sub])\n",
    "    return metrics.auc(fpr, tpr)\n",
    "\n",
    "def PlotAuc(sub, df):\n",
    "    fpr, tpr, thresholds = metrics.roc_curve(df.label == sub, -df[sub])\n",
    "    pyplot.plot(fpr, tpr)"
   ]
  },
  {
   "cell_type": "code",
   "execution_count": 62,
   "metadata": {
    "collapsed": false
   },
   "outputs": [],
   "source": [
    "dataframes = {}\n",
    "for filename in glob.glob('exps/scotuss*/classify.csv'):\n",
    "    dataframes[filename] = MakePredictions(filename)"
   ]
  },
  {
   "cell_type": "code",
   "execution_count": 84,
   "metadata": {
    "collapsed": false
   },
   "outputs": [
    {
     "data": {
      "text/html": [
       "<div>\n",
       "<table border=\"1\" class=\"dataframe\">\n",
       "  <thead>\n",
       "    <tr style=\"text-align: right;\">\n",
       "      <th></th>\n",
       "      <th>acc</th>\n",
       "      <th>f1</th>\n",
       "      <th>avg</th>\n",
       "      <th>ppl</th>\n",
       "      <th>model</th>\n",
       "      <th>hyper</th>\n",
       "      <th>mikolov</th>\n",
       "      <th>softmax</th>\n",
       "      <th>hash</th>\n",
       "    </tr>\n",
       "  </thead>\n",
       "  <tbody>\n",
       "    <tr>\n",
       "      <th>5</th>\n",
       "      <td>0.29525</td>\n",
       "      <td>26.609274</td>\n",
       "      <td>0.726500</td>\n",
       "      <td>29.244</td>\n",
       "      <td>exps/scotuss11/classify.csv</td>\n",
       "      <td>1</td>\n",
       "      <td>0</td>\n",
       "      <td>1</td>\n",
       "      <td>1</td>\n",
       "    </tr>\n",
       "    <tr>\n",
       "      <th>8</th>\n",
       "      <td>0.31875</td>\n",
       "      <td>28.757781</td>\n",
       "      <td>0.734104</td>\n",
       "      <td>29.443</td>\n",
       "      <td>exps/scotuss15/classify.csv</td>\n",
       "      <td>1</td>\n",
       "      <td>1</td>\n",
       "      <td>1</td>\n",
       "      <td>1</td>\n",
       "    </tr>\n",
       "    <tr>\n",
       "      <th>2</th>\n",
       "      <td>0.31100</td>\n",
       "      <td>28.352247</td>\n",
       "      <td>0.726616</td>\n",
       "      <td>29.760</td>\n",
       "      <td>exps/scotuss3/classify.csv</td>\n",
       "      <td>1</td>\n",
       "      <td>0</td>\n",
       "      <td>0</td>\n",
       "      <td>1</td>\n",
       "    </tr>\n",
       "    <tr>\n",
       "      <th>1</th>\n",
       "      <td>0.31125</td>\n",
       "      <td>28.288671</td>\n",
       "      <td>0.734596</td>\n",
       "      <td>29.769</td>\n",
       "      <td>exps/scotuss13/classify.csv</td>\n",
       "      <td>0</td>\n",
       "      <td>1</td>\n",
       "      <td>1</td>\n",
       "      <td>1</td>\n",
       "    </tr>\n",
       "    <tr>\n",
       "      <th>12</th>\n",
       "      <td>0.32425</td>\n",
       "      <td>29.629901</td>\n",
       "      <td>0.735690</td>\n",
       "      <td>29.778</td>\n",
       "      <td>exps/scotuss7/classify.csv</td>\n",
       "      <td>1</td>\n",
       "      <td>1</td>\n",
       "      <td>0</td>\n",
       "      <td>1</td>\n",
       "    </tr>\n",
       "    <tr>\n",
       "      <th>10</th>\n",
       "      <td>0.29850</td>\n",
       "      <td>26.815589</td>\n",
       "      <td>0.727265</td>\n",
       "      <td>29.882</td>\n",
       "      <td>exps/scotuss5/classify.csv</td>\n",
       "      <td>0</td>\n",
       "      <td>1</td>\n",
       "      <td>0</td>\n",
       "      <td>1</td>\n",
       "    </tr>\n",
       "    <tr>\n",
       "      <th>4</th>\n",
       "      <td>0.28400</td>\n",
       "      <td>25.744096</td>\n",
       "      <td>0.716749</td>\n",
       "      <td>30.006</td>\n",
       "      <td>exps/scotuss9/classify.csv</td>\n",
       "      <td>0</td>\n",
       "      <td>0</td>\n",
       "      <td>1</td>\n",
       "      <td>1</td>\n",
       "    </tr>\n",
       "    <tr>\n",
       "      <th>7</th>\n",
       "      <td>0.29575</td>\n",
       "      <td>27.041914</td>\n",
       "      <td>0.723797</td>\n",
       "      <td>31.166</td>\n",
       "      <td>exps/scotuss1/classify.csv</td>\n",
       "      <td>0</td>\n",
       "      <td>0</td>\n",
       "      <td>0</td>\n",
       "      <td>1</td>\n",
       "    </tr>\n",
       "    <tr>\n",
       "      <th>0</th>\n",
       "      <td>0.26125</td>\n",
       "      <td>21.625936</td>\n",
       "      <td>0.661913</td>\n",
       "      <td>32.231</td>\n",
       "      <td>exps/scotuss14/classify.csv</td>\n",
       "      <td>1</td>\n",
       "      <td>1</td>\n",
       "      <td>1</td>\n",
       "      <td>0</td>\n",
       "    </tr>\n",
       "    <tr>\n",
       "      <th>13</th>\n",
       "      <td>0.24450</td>\n",
       "      <td>19.955781</td>\n",
       "      <td>0.657869</td>\n",
       "      <td>32.275</td>\n",
       "      <td>exps/scotuss10/classify.csv</td>\n",
       "      <td>1</td>\n",
       "      <td>0</td>\n",
       "      <td>1</td>\n",
       "      <td>0</td>\n",
       "    </tr>\n",
       "    <tr>\n",
       "      <th>6</th>\n",
       "      <td>0.25425</td>\n",
       "      <td>20.665545</td>\n",
       "      <td>0.656147</td>\n",
       "      <td>32.704</td>\n",
       "      <td>exps/scotuss12/classify.csv</td>\n",
       "      <td>0</td>\n",
       "      <td>1</td>\n",
       "      <td>1</td>\n",
       "      <td>0</td>\n",
       "    </tr>\n",
       "    <tr>\n",
       "      <th>11</th>\n",
       "      <td>0.26225</td>\n",
       "      <td>21.081535</td>\n",
       "      <td>0.661206</td>\n",
       "      <td>32.848</td>\n",
       "      <td>exps/scotuss8/classify.csv</td>\n",
       "      <td>0</td>\n",
       "      <td>0</td>\n",
       "      <td>1</td>\n",
       "      <td>0</td>\n",
       "    </tr>\n",
       "    <tr>\n",
       "      <th>3</th>\n",
       "      <td>0.22475</td>\n",
       "      <td>18.855759</td>\n",
       "      <td>0.635029</td>\n",
       "      <td>33.196</td>\n",
       "      <td>exps/scotuss6/classify.csv</td>\n",
       "      <td>1</td>\n",
       "      <td>1</td>\n",
       "      <td>0</td>\n",
       "      <td>0</td>\n",
       "    </tr>\n",
       "    <tr>\n",
       "      <th>9</th>\n",
       "      <td>0.20475</td>\n",
       "      <td>17.103180</td>\n",
       "      <td>0.616861</td>\n",
       "      <td>33.263</td>\n",
       "      <td>exps/scotuss2/classify.csv</td>\n",
       "      <td>1</td>\n",
       "      <td>0</td>\n",
       "      <td>0</td>\n",
       "      <td>0</td>\n",
       "    </tr>\n",
       "    <tr>\n",
       "      <th>14</th>\n",
       "      <td>0.20075</td>\n",
       "      <td>16.733244</td>\n",
       "      <td>0.613721</td>\n",
       "      <td>33.271</td>\n",
       "      <td>exps/scotuss4/classify.csv</td>\n",
       "      <td>0</td>\n",
       "      <td>1</td>\n",
       "      <td>0</td>\n",
       "      <td>0</td>\n",
       "    </tr>\n",
       "  </tbody>\n",
       "</table>\n",
       "</div>"
      ],
      "text/plain": [
       "        acc         f1       avg     ppl                        model  hyper  \\\n",
       "5   0.29525  26.609274  0.726500  29.244  exps/scotuss11/classify.csv      1   \n",
       "8   0.31875  28.757781  0.734104  29.443  exps/scotuss15/classify.csv      1   \n",
       "2   0.31100  28.352247  0.726616  29.760   exps/scotuss3/classify.csv      1   \n",
       "1   0.31125  28.288671  0.734596  29.769  exps/scotuss13/classify.csv      0   \n",
       "12  0.32425  29.629901  0.735690  29.778   exps/scotuss7/classify.csv      1   \n",
       "10  0.29850  26.815589  0.727265  29.882   exps/scotuss5/classify.csv      0   \n",
       "4   0.28400  25.744096  0.716749  30.006   exps/scotuss9/classify.csv      0   \n",
       "7   0.29575  27.041914  0.723797  31.166   exps/scotuss1/classify.csv      0   \n",
       "0   0.26125  21.625936  0.661913  32.231  exps/scotuss14/classify.csv      1   \n",
       "13  0.24450  19.955781  0.657869  32.275  exps/scotuss10/classify.csv      1   \n",
       "6   0.25425  20.665545  0.656147  32.704  exps/scotuss12/classify.csv      0   \n",
       "11  0.26225  21.081535  0.661206  32.848   exps/scotuss8/classify.csv      0   \n",
       "3   0.22475  18.855759  0.635029  33.196   exps/scotuss6/classify.csv      1   \n",
       "9   0.20475  17.103180  0.616861  33.263   exps/scotuss2/classify.csv      1   \n",
       "14  0.20075  16.733244  0.613721  33.271   exps/scotuss4/classify.csv      0   \n",
       "\n",
       "    mikolov  softmax  hash  \n",
       "5         0        1     1  \n",
       "8         1        1     1  \n",
       "2         0        0     1  \n",
       "1         1        1     1  \n",
       "12        1        0     1  \n",
       "10        1        0     1  \n",
       "4         0        1     1  \n",
       "7         0        0     1  \n",
       "0         1        1     0  \n",
       "13        0        1     0  \n",
       "6         1        1     0  \n",
       "11        0        1     0  \n",
       "3         1        0     0  \n",
       "9         0        0     0  \n",
       "14        1        0     0  "
      ]
     },
     "execution_count": 84,
     "metadata": {},
     "output_type": "execute_result"
    }
   ],
   "source": [
    "results = []\n",
    "for filename in dataframes:\n",
    "    row = {'model': filename}\n",
    "    df = dataframes[filename]\n",
    "    for sub in subreddits:\n",
    "        row[sub] = GetAuc(sub, df)\n",
    "    f1, acc = Metrics(list(df.pred.values), list(df.label.values), show=False)\n",
    "    row['f1'] = f1\n",
    "    row['acc'] = acc\n",
    "    row['ppl'] = GetPPL(filename)\n",
    "    \n",
    "    params = GetParams(filename)\n",
    "    row['hash'] = int(params['use_hash_table'])\n",
    "    row['hyper'] = int(params['use_hyper_adaptation'])\n",
    "    row['mikolov'] = int(params['use_mikolov_adaptation'])\n",
    "    row['softmax'] = int(params['use_softmax_adaptation'])\n",
    "    \n",
    "    results.append(row)\n",
    "results = pandas.DataFrame(results)\n",
    "results['avg'] = results[subreddits].mean(axis=1)\n",
    "results[results.model.apply(len) < 28].sort_values('ppl')[['acc', 'f1', 'avg', 'ppl', 'model',\n",
    "                          'hyper', 'mikolov', 'softmax', 'hash']]"
   ]
  },
  {
   "cell_type": "code",
   "execution_count": 69,
   "metadata": {
    "collapsed": false
   },
   "outputs": [
    {
     "data": {
      "image/png": "[encoded data removed]",
      "text/plain": [
       "<matplotlib.figure.Figure at 0x7fc6efa7d410>"
      ]
     },
     "metadata": {},
     "output_type": "display_data"
    }
   ],
   "source": [
    "pyplot.plot(results.ppl, results.f1, 'o')\n",
    "pyplot.show()"
   ]
  },
  {
   "cell_type": "code",
   "execution_count": 65,
   "metadata": {
    "collapsed": false
   },
   "outputs": [
    {
     "name": "stdout",
     "output_type": "stream",
     "text": [
      "accuracy = 0.324\n",
      " Lang     Prec.   Rec.   F1\n",
      "------------------------------\n",
      "  anthony_kennedy   25.38  25.70  25.54\n",
      "  antonin_scalia   46.12  28.46  35.20\n",
      "  david_h_souter   30.52  29.02  29.75\n",
      "  john_g_roberts_jr   37.54  30.29  33.53\n",
      "  john_paul_stevens   23.30  31.42  26.75\n",
      "  ruth_bader_ginsburg   36.83  30.84  33.57\n",
      "  samuel_a_alito_jr   12.19  41.98  18.89\n",
      "  sandra_day_oconnor   14.01  33.85  19.82\n",
      "  sonia_sotomayor   11.32  27.27  16.00\n",
      "  stephen_g_breyer   52.26  35.62  42.36\n",
      "  william_h_rehnquist   38.18  53.39  44.52\n",
      "------------------------------\n",
      "  Total:   29.79  33.44  29.63\n"
     ]
    }
   ],
   "source": [
    "df = dataframes['exps/scotuss7/classify.csv']\n",
    "Metrics(list(df.pred.values), list(df.label.values));"
   ]
  },
  {
   "cell_type": "code",
   "execution_count": 66,
   "metadata": {
    "collapsed": false
   },
   "outputs": [
    {
     "data": {
      "image/png": "[encoded data removed]",
      "text/plain": [
       "<matplotlib.figure.Figure at 0x7fc6f26405d0>"
      ]
     },
     "metadata": {},
     "output_type": "display_data"
    }
   ],
   "source": [
    "for sub in subreddits:\n",
    "    fpr, tpr, thresholds = metrics.roc_curve(df.label == sub, -df[sub])\n",
    "    pyplot.plot(fpr, tpr)\n",
    "\n",
    "\n",
    "pyplot.legend(subreddits, loc=4)\n",
    "\n",
    "\"\"\"pyplot.semilogy()\n",
    "pyplot.semilogx()\n",
    "pyplot.xlim([0.001, 1.0])\n",
    "pyplot.ylim([0.1, 1.0])\"\"\"\n",
    "pyplot.show()"
   ]
  },
  {
   "cell_type": "code",
   "execution_count": 83,
   "metadata": {
    "collapsed": false
   },
   "outputs": [
    {
     "data": {
      "image/png": "[encoded data removed]",
      "text/plain": [
       "<matplotlib.figure.Figure at 0x7fc6f1acb3d0>"
      ]
     },
     "metadata": {},
     "output_type": "display_data"
    }
   ],
   "source": [
    "pyplot.hist(df['antonin_scalia'], bins=100)\n",
    "pyplot.show()"
   ]
  },
  {
   "cell_type": "code",
   "execution_count": 77,
   "metadata": {
    "collapsed": false
   },
   "outputs": [],
   "source": [
    "counts = np.array(collections.Counter(df.label.values).values())\n",
    "counts = counts / float(counts.sum())"
   ]
  },
  {
   "cell_type": "code",
   "execution_count": 81,
   "metadata": {
    "collapsed": false
   },
   "outputs": [
    {
     "data": {
      "text/plain": [
       "8.9163858268665948"
      ]
     },
     "execution_count": 81,
     "metadata": {},
     "output_type": "execute_result"
    }
   ],
   "source": [
    "np.exp(-(counts * np.log(counts)).sum())"
   ]
  },
  {
   "cell_type": "code",
   "execution_count": 82,
   "metadata": {
    "collapsed": false
   },
   "outputs": [
    {
     "data": {
      "text/plain": [
       "array([ 0.0965 ,  0.21125,  0.09325,  0.0275 ,  0.11675,  0.02025,\n",
       "        0.19325,  0.0325 ,  0.06525,  0.08075,  0.06275])"
      ]
     },
     "execution_count": 82,
     "metadata": {},
     "output_type": "execute_result"
    }
   ],
   "source": [
    "counts"
   ]
  },
  {
   "cell_type": "code",
   "execution_count": null,
   "metadata": {
    "collapsed": true
   },
   "outputs": [],
   "source": []
  }
 ],
 "metadata": {
  "kernelspec": {
   "display_name": "Python 2",
   "language": "python",
   "name": "python2"
  },
  "language_info": {
   "codemirror_mode": {
    "name": "ipython",
    "version": 2
   },
   "file_extension": ".py",
   "mimetype": "text/x-python",
   "name": "python",
   "nbconvert_exporter": "python",
   "pygments_lexer": "ipython2",
   "version": "2.7.11"
  }
 },
 "nbformat": 4,
 "nbformat_minor": 2
}
