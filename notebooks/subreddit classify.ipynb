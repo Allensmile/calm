{
 "cells": [
  {
   "cell_type": "code",
   "execution_count": 11,
   "metadata": {
    "collapsed": true
   },
   "outputs": [],
   "source": [
    "import pandas\n",
    "import numpy as np\n",
    "from metrics import Metrics\n",
    "from sklearn import metrics\n",
    "import glob\n",
    "import collections\n",
    "import os\n",
    "import pandas\n",
    "import json"
   ]
  },
  {
   "cell_type": "code",
   "execution_count": 53,
   "metadata": {
    "collapsed": false
   },
   "outputs": [],
   "source": [
    "subreddits = ['AskMen', 'askscience', 'AskWomen', 'atheism', 'changemyview',\n",
    "              'Fitness', 'politics', 'worldnews']\n",
    "\n",
    "\n",
    "def MakePredictions(filename):\n",
    "    df = pandas.read_csv(filename, index_col=0)\n",
    "    df[subreddits] = df[subreddits].multiply(rawdata['length'], axis='index')\n",
    "    df['idcode'] = rawdata['idcode']\n",
    "    df['length'] = rawdata['length']\n",
    "    grps = df.groupby('idcode')\n",
    "    \n",
    "    labels = grps.label.first()\n",
    "    totals = grps.agg(sum)\n",
    "    totals['label'] = labels\n",
    "    \n",
    "    totals[subreddits] = totals[subreddits].subtract(totals[subreddits].mean(1), axis=0)\n",
    "    totals[subreddits] = totals[subreddits].divide(np.std(totals[subreddits], axis=1), axis=0)\n",
    "    \n",
    "    ss = np.array(subreddits)\n",
    "    totals['pred'] = ss[np.argmin(totals[subreddits].values, axis=1)]\n",
    "\n",
    "    return totals"
   ]
  },
  {
   "cell_type": "code",
   "execution_count": 54,
   "metadata": {
    "collapsed": false
   },
   "outputs": [
    {
     "data": {
      "text/html": [
       "<div>\n",
       "<table border=\"1\" class=\"dataframe\">\n",
       "  <thead>\n",
       "    <tr style=\"text-align: right;\">\n",
       "      <th></th>\n",
       "      <th>subreddit</th>\n",
       "      <th>idcode</th>\n",
       "      <th>text</th>\n",
       "      <th>length</th>\n",
       "    </tr>\n",
       "  </thead>\n",
       "  <tbody>\n",
       "    <tr>\n",
       "      <th>0</th>\n",
       "      <td>politics</td>\n",
       "      <td>cqug90i</td>\n",
       "      <td>are you really implying we return to those tim...</td>\n",
       "      <td>17</td>\n",
       "    </tr>\n",
       "    <tr>\n",
       "      <th>1</th>\n",
       "      <td>politics</td>\n",
       "      <td>cqug90i</td>\n",
       "      <td>if so , you wo n't have much luck selling the ...</td>\n",
       "      <td>25</td>\n",
       "    </tr>\n",
       "    <tr>\n",
       "      <th>2</th>\n",
       "      <td>todayilearned</td>\n",
       "      <td>cqug912</td>\n",
       "      <td>get back to your pott harry .</td>\n",
       "      <td>8</td>\n",
       "    </tr>\n",
       "    <tr>\n",
       "      <th>3</th>\n",
       "      <td>atheism</td>\n",
       "      <td>cqug91m</td>\n",
       "      <td>he 's not claiming a god exists .</td>\n",
       "      <td>9</td>\n",
       "    </tr>\n",
       "    <tr>\n",
       "      <th>4</th>\n",
       "      <td>atheism</td>\n",
       "      <td>cqug91m</td>\n",
       "      <td>he 's positing a god exists and he 's positing...</td>\n",
       "      <td>16</td>\n",
       "    </tr>\n",
       "  </tbody>\n",
       "</table>\n",
       "</div>"
      ],
      "text/plain": [
       "       subreddit   idcode                                               text  \\\n",
       "0       politics  cqug90i  are you really implying we return to those tim...   \n",
       "1       politics  cqug90i  if so , you wo n't have much luck selling the ...   \n",
       "2  todayilearned  cqug912                      get back to your pott harry .   \n",
       "3        atheism  cqug91m                  he 's not claiming a god exists .   \n",
       "4        atheism  cqug91m  he 's positing a god exists and he 's positing...   \n",
       "\n",
       "   length  \n",
       "0      17  \n",
       "1      25  \n",
       "2       8  \n",
       "3       9  \n",
       "4      16  "
      ]
     },
     "execution_count": 54,
     "metadata": {},
     "output_type": "execute_result"
    }
   ],
   "source": [
    "rawdata = pandas.read_csv('/s0/ajaech/reddit05.tsv.bz2', sep='\\t', header=None, compression='bz2',\n",
    "                    nrows=20000)\n",
    "rawdata.columns = ['subreddit', 'idcode', 'text']\n",
    "rawdata['length'] = rawdata['text'].apply(lambda x: len(x.split()) + 1)\n",
    "rawdata.head()"
   ]
  },
  {
   "cell_type": "code",
   "execution_count": 55,
   "metadata": {
    "collapsed": false
   },
   "outputs": [],
   "source": [
    "def GetPPL(filename):\n",
    "    dirname = os.path.dirname(filename)\n",
    "    pplfile = os.path.join(dirname, 'ppl.txt')\n",
    "    if os.path.exists(filename):\n",
    "        with open(pplfile, 'r') as f:\n",
    "          lines = f.readlines()\n",
    "        if len(lines):\n",
    "            ppl = lines[-1].split()[-1]\n",
    "            return float(ppl)\n",
    "    return None"
   ]
  },
  {
   "cell_type": "code",
   "execution_count": 56,
   "metadata": {
    "collapsed": true
   },
   "outputs": [],
   "source": [
    "def GetParams(filename):\n",
    "    dirname = os.path.dirname(filename)\n",
    "    paramsfile = os.path.join(dirname, 'params.json')\n",
    "    with open(paramsfile, 'r') as g:\n",
    "        params = json.load(g)\n",
    "    return params"
   ]
  },
  {
   "cell_type": "code",
   "execution_count": 131,
   "metadata": {
    "collapsed": false
   },
   "outputs": [
    {
     "name": "stdout",
     "output_type": "stream",
     "text": [
      "exps/newstrat2/classify.csv\n",
      "exps/newstrat4/classify.csv\n",
      "exps/newstrat5/classify.csv\n",
      "exps/newstrat9/classify.csv\n",
      "exps/newstrat8/classify.csv\n",
      "exps/newstrat6/classify.csv\n",
      "exps/newstrat10/classify.csv\n",
      "exps/newstrat13/classify.csv\n",
      "exps/newstrat11/classify.csv\n",
      "exps/newstrat3/classify.csv\n",
      "exps/newstrat7/classify.csv\n",
      "exps/newstrat12/classify.csv\n",
      "exps/newstrat1/classify.csv\n",
      "exps/newstrat15/classify.csv\n",
      "exps/newstrat14/classify.csv\n"
     ]
    }
   ],
   "source": [
    "dataframes = {}\n",
    "for filename in glob.glob('exps/newstrat*/classify.csv'):\n",
    "    print filename\n",
    "    dataframes[filename] = MakePredictions(filename)"
   ]
  },
  {
   "cell_type": "code",
   "execution_count": 132,
   "metadata": {
    "collapsed": false
   },
   "outputs": [],
   "source": [
    "def GetAuc(sub, df):\n",
    "    fpr, tpr, thresholds = metrics.roc_curve(df.label == sub, -df[sub])\n",
    "    return metrics.auc(fpr, tpr)\n",
    "\n",
    "def PlotAuc(sub, df):\n",
    "    fpr, tpr, thresholds = metrics.roc_curve(df.label == sub, -df[sub])\n",
    "    pyplot.plot(fpr, tpr)"
   ]
  },
  {
   "cell_type": "code",
   "execution_count": 136,
   "metadata": {
    "collapsed": false,
    "scrolled": false
   },
   "outputs": [
    {
     "data": {
      "text/html": [
       "<div>\n",
       "<table border=\"1\" class=\"dataframe\">\n",
       "  <thead>\n",
       "    <tr style=\"text-align: right;\">\n",
       "      <th></th>\n",
       "      <th>acc</th>\n",
       "      <th>f1</th>\n",
       "      <th>avg</th>\n",
       "      <th>ppl</th>\n",
       "      <th>delta_ppl</th>\n",
       "      <th>model</th>\n",
       "      <th>hyper</th>\n",
       "      <th>mikolov</th>\n",
       "      <th>softmax</th>\n",
       "      <th>hash</th>\n",
       "    </tr>\n",
       "  </thead>\n",
       "  <tbody>\n",
       "    <tr>\n",
       "      <th>14</th>\n",
       "      <td>0.416949</td>\n",
       "      <td>39.735424</td>\n",
       "      <td>0.764612</td>\n",
       "      <td>69.641</td>\n",
       "      <td>0.030284</td>\n",
       "      <td>exps/newstrat1/classify.csv</td>\n",
       "      <td>0</td>\n",
       "      <td>0</td>\n",
       "      <td>0</td>\n",
       "      <td>1</td>\n",
       "    </tr>\n",
       "    <tr>\n",
       "      <th>5</th>\n",
       "      <td>0.420339</td>\n",
       "      <td>40.645864</td>\n",
       "      <td>0.759036</td>\n",
       "      <td>69.439</td>\n",
       "      <td>0.033281</td>\n",
       "      <td>exps/newstrat2/classify.csv</td>\n",
       "      <td>1</td>\n",
       "      <td>0</td>\n",
       "      <td>0</td>\n",
       "      <td>0</td>\n",
       "    </tr>\n",
       "    <tr>\n",
       "      <th>11</th>\n",
       "      <td>0.417627</td>\n",
       "      <td>39.880366</td>\n",
       "      <td>0.767122</td>\n",
       "      <td>69.005</td>\n",
       "      <td>0.039780</td>\n",
       "      <td>exps/newstrat6/classify.csv</td>\n",
       "      <td>1</td>\n",
       "      <td>1</td>\n",
       "      <td>0</td>\n",
       "      <td>0</td>\n",
       "    </tr>\n",
       "    <tr>\n",
       "      <th>9</th>\n",
       "      <td>0.392542</td>\n",
       "      <td>38.513478</td>\n",
       "      <td>0.759267</td>\n",
       "      <td>68.783</td>\n",
       "      <td>0.043136</td>\n",
       "      <td>exps/newstrat10/classify.csv</td>\n",
       "      <td>1</td>\n",
       "      <td>0</td>\n",
       "      <td>1</td>\n",
       "      <td>0</td>\n",
       "    </tr>\n",
       "    <tr>\n",
       "      <th>2</th>\n",
       "      <td>0.383051</td>\n",
       "      <td>37.192194</td>\n",
       "      <td>0.761186</td>\n",
       "      <td>68.440</td>\n",
       "      <td>0.048364</td>\n",
       "      <td>exps/newstrat4/classify.csv</td>\n",
       "      <td>0</td>\n",
       "      <td>1</td>\n",
       "      <td>0</td>\n",
       "      <td>0</td>\n",
       "    </tr>\n",
       "    <tr>\n",
       "      <th>4</th>\n",
       "      <td>0.408136</td>\n",
       "      <td>39.393015</td>\n",
       "      <td>0.756887</td>\n",
       "      <td>68.342</td>\n",
       "      <td>0.049867</td>\n",
       "      <td>exps/newstrat14/classify.csv</td>\n",
       "      <td>1</td>\n",
       "      <td>1</td>\n",
       "      <td>1</td>\n",
       "      <td>0</td>\n",
       "    </tr>\n",
       "    <tr>\n",
       "      <th>6</th>\n",
       "      <td>0.395254</td>\n",
       "      <td>38.723171</td>\n",
       "      <td>0.755106</td>\n",
       "      <td>68.021</td>\n",
       "      <td>0.054821</td>\n",
       "      <td>exps/newstrat8/classify.csv</td>\n",
       "      <td>0</td>\n",
       "      <td>0</td>\n",
       "      <td>1</td>\n",
       "      <td>0</td>\n",
       "    </tr>\n",
       "    <tr>\n",
       "      <th>13</th>\n",
       "      <td>0.449492</td>\n",
       "      <td>43.612267</td>\n",
       "      <td>0.780663</td>\n",
       "      <td>67.998</td>\n",
       "      <td>0.055178</td>\n",
       "      <td>exps/newstrat3/classify.csv</td>\n",
       "      <td>1</td>\n",
       "      <td>0</td>\n",
       "      <td>0</td>\n",
       "      <td>1</td>\n",
       "    </tr>\n",
       "    <tr>\n",
       "      <th>7</th>\n",
       "      <td>0.386441</td>\n",
       "      <td>37.293691</td>\n",
       "      <td>0.753270</td>\n",
       "      <td>67.965</td>\n",
       "      <td>0.055690</td>\n",
       "      <td>exps/newstrat12/classify.csv</td>\n",
       "      <td>0</td>\n",
       "      <td>1</td>\n",
       "      <td>1</td>\n",
       "      <td>0</td>\n",
       "    </tr>\n",
       "    <tr>\n",
       "      <th>3</th>\n",
       "      <td>0.444746</td>\n",
       "      <td>43.512169</td>\n",
       "      <td>0.790765</td>\n",
       "      <td>67.508</td>\n",
       "      <td>0.062837</td>\n",
       "      <td>exps/newstrat7/classify.csv</td>\n",
       "      <td>1</td>\n",
       "      <td>1</td>\n",
       "      <td>0</td>\n",
       "      <td>1</td>\n",
       "    </tr>\n",
       "    <tr>\n",
       "      <th>10</th>\n",
       "      <td>0.463051</td>\n",
       "      <td>44.671096</td>\n",
       "      <td>0.788899</td>\n",
       "      <td>67.210</td>\n",
       "      <td>0.067549</td>\n",
       "      <td>exps/newstrat11/classify.csv</td>\n",
       "      <td>1</td>\n",
       "      <td>0</td>\n",
       "      <td>1</td>\n",
       "      <td>1</td>\n",
       "    </tr>\n",
       "    <tr>\n",
       "      <th>12</th>\n",
       "      <td>0.446780</td>\n",
       "      <td>43.312085</td>\n",
       "      <td>0.791711</td>\n",
       "      <td>67.109</td>\n",
       "      <td>0.069156</td>\n",
       "      <td>exps/newstrat15/classify.csv</td>\n",
       "      <td>1</td>\n",
       "      <td>1</td>\n",
       "      <td>1</td>\n",
       "      <td>1</td>\n",
       "    </tr>\n",
       "    <tr>\n",
       "      <th>8</th>\n",
       "      <td>0.475254</td>\n",
       "      <td>46.636677</td>\n",
       "      <td>0.788660</td>\n",
       "      <td>66.924</td>\n",
       "      <td>0.072112</td>\n",
       "      <td>exps/newstrat5/classify.csv</td>\n",
       "      <td>0</td>\n",
       "      <td>1</td>\n",
       "      <td>0</td>\n",
       "      <td>1</td>\n",
       "    </tr>\n",
       "    <tr>\n",
       "      <th>0</th>\n",
       "      <td>0.446102</td>\n",
       "      <td>42.907509</td>\n",
       "      <td>0.784404</td>\n",
       "      <td>66.866</td>\n",
       "      <td>0.073042</td>\n",
       "      <td>exps/newstrat9/classify.csv</td>\n",
       "      <td>0</td>\n",
       "      <td>0</td>\n",
       "      <td>1</td>\n",
       "      <td>1</td>\n",
       "    </tr>\n",
       "    <tr>\n",
       "      <th>1</th>\n",
       "      <td>0.450169</td>\n",
       "      <td>43.615334</td>\n",
       "      <td>0.783670</td>\n",
       "      <td>66.522</td>\n",
       "      <td>0.078591</td>\n",
       "      <td>exps/newstrat13/classify.csv</td>\n",
       "      <td>0</td>\n",
       "      <td>1</td>\n",
       "      <td>1</td>\n",
       "      <td>1</td>\n",
       "    </tr>\n",
       "  </tbody>\n",
       "</table>\n",
       "</div>"
      ],
      "text/plain": [
       "         acc         f1       avg     ppl  delta_ppl  \\\n",
       "14  0.416949  39.735424  0.764612  69.641   0.030284   \n",
       "5   0.420339  40.645864  0.759036  69.439   0.033281   \n",
       "11  0.417627  39.880366  0.767122  69.005   0.039780   \n",
       "9   0.392542  38.513478  0.759267  68.783   0.043136   \n",
       "2   0.383051  37.192194  0.761186  68.440   0.048364   \n",
       "4   0.408136  39.393015  0.756887  68.342   0.049867   \n",
       "6   0.395254  38.723171  0.755106  68.021   0.054821   \n",
       "13  0.449492  43.612267  0.780663  67.998   0.055178   \n",
       "7   0.386441  37.293691  0.753270  67.965   0.055690   \n",
       "3   0.444746  43.512169  0.790765  67.508   0.062837   \n",
       "10  0.463051  44.671096  0.788899  67.210   0.067549   \n",
       "12  0.446780  43.312085  0.791711  67.109   0.069156   \n",
       "8   0.475254  46.636677  0.788660  66.924   0.072112   \n",
       "0   0.446102  42.907509  0.784404  66.866   0.073042   \n",
       "1   0.450169  43.615334  0.783670  66.522   0.078591   \n",
       "\n",
       "                           model  hyper  mikolov  softmax  hash  \n",
       "14   exps/newstrat1/classify.csv      0        0        0     1  \n",
       "5    exps/newstrat2/classify.csv      1        0        0     0  \n",
       "11   exps/newstrat6/classify.csv      1        1        0     0  \n",
       "9   exps/newstrat10/classify.csv      1        0        1     0  \n",
       "2    exps/newstrat4/classify.csv      0        1        0     0  \n",
       "4   exps/newstrat14/classify.csv      1        1        1     0  \n",
       "6    exps/newstrat8/classify.csv      0        0        1     0  \n",
       "13   exps/newstrat3/classify.csv      1        0        0     1  \n",
       "7   exps/newstrat12/classify.csv      0        1        1     0  \n",
       "3    exps/newstrat7/classify.csv      1        1        0     1  \n",
       "10  exps/newstrat11/classify.csv      1        0        1     1  \n",
       "12  exps/newstrat15/classify.csv      1        1        1     1  \n",
       "8    exps/newstrat5/classify.csv      0        1        0     1  \n",
       "0    exps/newstrat9/classify.csv      0        0        1     1  \n",
       "1   exps/newstrat13/classify.csv      0        1        1     1  "
      ]
     },
     "execution_count": 136,
     "metadata": {},
     "output_type": "execute_result"
    }
   ],
   "source": [
    "results = []\n",
    "for filename in dataframes:\n",
    "    row = {'model': filename}\n",
    "    df = dataframes[filename]\n",
    "    for sub in subreddits:\n",
    "        row[sub] = GetAuc(sub, df)\n",
    "    f1, acc = Metrics(list(df[df.label.isin(subreddits)].pred.values), \n",
    "                      list(df[df.label.isin(subreddits)].label.values), show=False)\n",
    "    row['f1'] = f1\n",
    "    row['acc'] = acc\n",
    "    row['ppl'] = GetPPL(filename)\n",
    "    \n",
    "    params = GetParams(filename)\n",
    "    row['hash'] = int(params['use_hash_table'])\n",
    "    row['hyper'] = int(params['use_hyper_adaptation'])\n",
    "    row['mikolov'] = int(params['use_mikolov_adaptation'])\n",
    "    row['softmax'] = int(params['use_softmax_adaptation'])\n",
    "    \n",
    "    results.append(row)\n",
    "results = pandas.DataFrame(results)\n",
    "results['avg'] = results[subreddits].mean(axis=1)\n",
    "\n",
    "results['delta_ppl'] = (71.75 - results.ppl) / results.ppl\n",
    "\n",
    "z = results.sort_values('ppl', ascending=False)[['acc', 'f1', 'avg', 'ppl', 'delta_ppl', 'model',\n",
    "                          'hyper', 'mikolov', 'softmax', 'hash']]\n",
    "z"
   ]
  },
  {
   "cell_type": "code",
   "execution_count": 137,
   "metadata": {
    "collapsed": false
   },
   "outputs": [
    {
     "name": "stdout",
     "output_type": "stream",
     "text": [
      "accuracy = 0.463\n",
      " Lang     Prec.   Rec.   F1\n",
      "------------------------------\n",
      "  AskMen   30.87  31.72  31.29\n",
      "  AskWomen   37.04  44.59  40.46\n",
      "  Fitness   56.41  77.88  65.43\n",
      "  askscience   32.10  81.25  46.02\n",
      "  atheism   52.11  48.90  50.45\n",
      "  changemyview   17.83  29.47  22.22\n",
      "  politics   60.69  52.54  56.32\n",
      "  worldnews   57.50  37.20  45.17\n",
      "------------------------------\n",
      "  Total:   43.07  50.44  44.67\n"
     ]
    }
   ],
   "source": [
    "df = dataframes['exps/newstrat11/classify.csv']\n",
    "Metrics(list(df[df.label.isin(subreddits)].pred.values), list(df[df.label.isin(subreddits)].label.values));"
   ]
  },
  {
   "cell_type": "code",
   "execution_count": 138,
   "metadata": {
    "collapsed": false
   },
   "outputs": [
    {
     "name": "stdout",
     "output_type": "stream",
     "text": [
      "N & N & N & Y & 69.6 & 7.3\\% & 76.5 \\\\\n",
      "Y & N & N & N & 69.4 & 7.6\\% & 75.9 \\\\\n",
      "Y & Y & N & N & 69.0 & 8.2\\% & 76.7 \\\\\n",
      "Y & N & Y & N & 68.8 & 8.5\\% & 75.9 \\\\\n",
      "N & Y & N & N & 68.4 & 8.9\\% & 76.1 \\\\\n",
      "Y & Y & Y & N & 68.3 & 9.1\\% & 75.7 \\\\\n",
      "N & N & Y & N & 68.0 & 9.5\\% & 75.5 \\\\\n",
      "Y & N & N & Y & 68.0 & 9.5\\% & 78.1 \\\\\n",
      "N & Y & Y & N & 68.0 & 9.6\\% & 75.3 \\\\\n",
      "Y & Y & N & Y & 67.5 & 10.2\\% & 79.1 \\\\\n",
      "Y & N & Y & Y & 67.2 & 10.6\\% & 78.9 \\\\\n",
      "Y & Y & Y & Y & 67.1 & 10.7\\% & 79.2 \\\\\n",
      "N & Y & N & Y & 66.9 & 11.0\\% & 78.9 \\\\\n",
      "N & N & Y & Y & 66.9 & 11.0\\% & 78.4 \\\\\n",
      "N & Y & Y & Y & 66.5 & 11.5\\% & 78.4 \\\\\n"
     ]
    }
   ],
   "source": [
    "def GetYesNo(x):\n",
    "    if x == 1:\n",
    "        return 'Y'\n",
    "    return 'N'\n",
    "\n",
    "baseline = 75.163\n",
    "\n",
    "for i in range(len(z)):\n",
    "    row = z.iloc[i]\n",
    "    delta = (baseline - row.ppl) / baseline\n",
    "    s = (GetYesNo(row.hyper), GetYesNo(row.mikolov), GetYesNo(row.softmax), GetYesNo(row.hash),\n",
    "         '{0:.1f}'.format(row.ppl), '{0:.1f}\\\\%'.format(100 * delta), '{0:.1f}'.format(100 * row.avg))\n",
    "    print ' & '.join(s) + ' \\\\\\\\'"
   ]
  },
  {
   "cell_type": "code",
   "execution_count": 107,
   "metadata": {
    "collapsed": false
   },
   "outputs": [
    {
     "ename": "KeyError",
     "evalue": "'exps/strat14/classify.csv'",
     "output_type": "error",
     "traceback": [
      "\u001b[0;31m---------------------------------------------------------------------------\u001b[0m",
      "\u001b[0;31mKeyError\u001b[0m                                  Traceback (most recent call last)",
      "\u001b[0;32m<ipython-input-107-d5398fe48da7>\u001b[0m in \u001b[0;36m<module>\u001b[0;34m()\u001b[0m\n\u001b[0;32m----> 1\u001b[0;31m \u001b[0mdf\u001b[0m \u001b[0;34m=\u001b[0m \u001b[0mdataframes\u001b[0m\u001b[0;34m[\u001b[0m\u001b[0;34m'exps/strat14/classify.csv'\u001b[0m\u001b[0;34m]\u001b[0m\u001b[0;34m\u001b[0m\u001b[0m\n\u001b[0m\u001b[1;32m      2\u001b[0m \u001b[0mMetrics\u001b[0m\u001b[0;34m(\u001b[0m\u001b[0mlist\u001b[0m\u001b[0;34m(\u001b[0m\u001b[0mdf\u001b[0m\u001b[0;34m[\u001b[0m\u001b[0mdf\u001b[0m\u001b[0;34m.\u001b[0m\u001b[0mlabel\u001b[0m\u001b[0;34m.\u001b[0m\u001b[0misin\u001b[0m\u001b[0;34m(\u001b[0m\u001b[0msubreddits\u001b[0m\u001b[0;34m)\u001b[0m\u001b[0;34m]\u001b[0m\u001b[0;34m.\u001b[0m\u001b[0mpred\u001b[0m\u001b[0;34m.\u001b[0m\u001b[0mvalues\u001b[0m\u001b[0;34m)\u001b[0m\u001b[0;34m,\u001b[0m \u001b[0mlist\u001b[0m\u001b[0;34m(\u001b[0m\u001b[0mdf\u001b[0m\u001b[0;34m[\u001b[0m\u001b[0mdf\u001b[0m\u001b[0;34m.\u001b[0m\u001b[0mlabel\u001b[0m\u001b[0;34m.\u001b[0m\u001b[0misin\u001b[0m\u001b[0;34m(\u001b[0m\u001b[0msubreddits\u001b[0m\u001b[0;34m)\u001b[0m\u001b[0;34m]\u001b[0m\u001b[0;34m.\u001b[0m\u001b[0mlabel\u001b[0m\u001b[0;34m.\u001b[0m\u001b[0mvalues\u001b[0m\u001b[0;34m)\u001b[0m\u001b[0;34m)\u001b[0m\u001b[0;34m;\u001b[0m\u001b[0;34m\u001b[0m\u001b[0m\n",
      "\u001b[0;31mKeyError\u001b[0m: 'exps/strat14/classify.csv'"
     ]
    }
   ],
   "source": [
    "df = dataframes['exps/strat14/classify.csv']\n",
    "Metrics(list(df[df.label.isin(subreddits)].pred.values), list(df[df.label.isin(subreddits)].label.values));"
   ]
  },
  {
   "cell_type": "code",
   "execution_count": 10,
   "metadata": {
    "collapsed": false
   },
   "outputs": [
    {
     "ename": "NameError",
     "evalue": "global name 'pyplot' is not defined",
     "output_type": "error",
     "traceback": [
      "\u001b[0;31m---------------------------------------------------------------------------\u001b[0m",
      "\u001b[0;31mNameError\u001b[0m                                 Traceback (most recent call last)",
      "\u001b[0;32m<ipython-input-10-a6f6197fc457>\u001b[0m in \u001b[0;36m<module>\u001b[0;34m()\u001b[0m\n\u001b[1;32m      1\u001b[0m \u001b[0;32mfor\u001b[0m \u001b[0msub\u001b[0m \u001b[0;32min\u001b[0m \u001b[0msubreddits\u001b[0m\u001b[0;34m:\u001b[0m\u001b[0;34m\u001b[0m\u001b[0m\n\u001b[0;32m----> 2\u001b[0;31m     \u001b[0mPlotAuc\u001b[0m\u001b[0;34m(\u001b[0m\u001b[0msub\u001b[0m\u001b[0;34m,\u001b[0m \u001b[0mdf\u001b[0m\u001b[0;34m)\u001b[0m\u001b[0;34m\u001b[0m\u001b[0m\n\u001b[0m\u001b[1;32m      3\u001b[0m \u001b[0mpyplot\u001b[0m\u001b[0;34m.\u001b[0m\u001b[0mlegend\u001b[0m\u001b[0;34m(\u001b[0m\u001b[0msubreddits\u001b[0m\u001b[0;34m,\u001b[0m \u001b[0mloc\u001b[0m\u001b[0;34m=\u001b[0m\u001b[0;36m4\u001b[0m\u001b[0;34m)\u001b[0m\u001b[0;34m\u001b[0m\u001b[0m\n\u001b[1;32m      4\u001b[0m \u001b[0mpyplot\u001b[0m\u001b[0;34m.\u001b[0m\u001b[0mshow\u001b[0m\u001b[0;34m(\u001b[0m\u001b[0;34m)\u001b[0m\u001b[0;34m\u001b[0m\u001b[0m\n",
      "\u001b[0;32m<ipython-input-7-95b68b708839>\u001b[0m in \u001b[0;36mPlotAuc\u001b[0;34m(sub, df)\u001b[0m\n\u001b[1;32m      5\u001b[0m \u001b[0;32mdef\u001b[0m \u001b[0mPlotAuc\u001b[0m\u001b[0;34m(\u001b[0m\u001b[0msub\u001b[0m\u001b[0;34m,\u001b[0m \u001b[0mdf\u001b[0m\u001b[0;34m)\u001b[0m\u001b[0;34m:\u001b[0m\u001b[0;34m\u001b[0m\u001b[0m\n\u001b[1;32m      6\u001b[0m     \u001b[0mfpr\u001b[0m\u001b[0;34m,\u001b[0m \u001b[0mtpr\u001b[0m\u001b[0;34m,\u001b[0m \u001b[0mthresholds\u001b[0m \u001b[0;34m=\u001b[0m \u001b[0mmetrics\u001b[0m\u001b[0;34m.\u001b[0m\u001b[0mroc_curve\u001b[0m\u001b[0;34m(\u001b[0m\u001b[0mdf\u001b[0m\u001b[0;34m.\u001b[0m\u001b[0mlabel\u001b[0m \u001b[0;34m==\u001b[0m \u001b[0msub\u001b[0m\u001b[0;34m,\u001b[0m \u001b[0;34m-\u001b[0m\u001b[0mdf\u001b[0m\u001b[0;34m[\u001b[0m\u001b[0msub\u001b[0m\u001b[0;34m]\u001b[0m\u001b[0;34m)\u001b[0m\u001b[0;34m\u001b[0m\u001b[0m\n\u001b[0;32m----> 7\u001b[0;31m     \u001b[0mpyplot\u001b[0m\u001b[0;34m.\u001b[0m\u001b[0mplot\u001b[0m\u001b[0;34m(\u001b[0m\u001b[0mfpr\u001b[0m\u001b[0;34m,\u001b[0m \u001b[0mtpr\u001b[0m\u001b[0;34m)\u001b[0m\u001b[0;34m\u001b[0m\u001b[0m\n\u001b[0m",
      "\u001b[0;31mNameError\u001b[0m: global name 'pyplot' is not defined"
     ]
    }
   ],
   "source": [
    "for sub in subreddits:\n",
    "    PlotAuc(sub, df)\n",
    "pyplot.legend(subreddits, loc=4)\n",
    "pyplot.show()"
   ]
  },
  {
   "cell_type": "code",
   "execution_count": null,
   "metadata": {
    "collapsed": false
   },
   "outputs": [],
   "source": [
    "collections.Counter(zip(df.label, df.pred))"
   ]
  },
  {
   "cell_type": "code",
   "execution_count": null,
   "metadata": {
    "collapsed": false
   },
   "outputs": [],
   "source": [
    "len(df)"
   ]
  },
  {
   "cell_type": "code",
   "execution_count": null,
   "metadata": {
    "collapsed": false
   },
   "outputs": [],
   "source": [
    "df.head()"
   ]
  },
  {
   "cell_type": "code",
   "execution_count": null,
   "metadata": {
    "collapsed": false
   },
   "outputs": [],
   "source": [
    "df[subreddits].plot()\n",
    "pyplot.show()"
   ]
  },
  {
   "cell_type": "code",
   "execution_count": null,
   "metadata": {
    "collapsed": false
   },
   "outputs": [],
   "source": [
    "pyplot.plot(np.convolve(df.hockey, [1.0]*80))\n",
    "pyplot.show()"
   ]
  },
  {
   "cell_type": "code",
   "execution_count": null,
   "metadata": {
    "collapsed": false
   },
   "outputs": [],
   "source": []
  },
  {
   "cell_type": "code",
   "execution_count": null,
   "metadata": {
    "collapsed": true
   },
   "outputs": [],
   "source": []
  },
  {
   "cell_type": "markdown",
   "metadata": {
    "collapsed": true
   },
   "source": []
  }
 ],
 "metadata": {
  "kernelspec": {
   "display_name": "Python 2",
   "language": "python",
   "name": "python2"
  },
  "language_info": {
   "codemirror_mode": {
    "name": "ipython",
    "version": 2
   },
   "file_extension": ".py",
   "mimetype": "text/x-python",
   "name": "python",
   "nbconvert_exporter": "python",
   "pygments_lexer": "ipython2",
   "version": "2.7.11"
  }
 },
 "nbformat": 4,
 "nbformat_minor": 2
}
