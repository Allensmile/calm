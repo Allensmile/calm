{
 "cells": [
  {
   "cell_type": "code",
   "execution_count": 1,
   "metadata": {
    "collapsed": false
   },
   "outputs": [],
   "source": [
    "import os\n",
    "from dataset import Dataset\n",
    "import pandas\n"
   ]
  },
  {
   "cell_type": "code",
   "execution_count": 2,
   "metadata": {
    "collapsed": true
   },
   "outputs": [],
   "source": [
    "subreddits = ['mildlyinteresting', 'baseball', 'books', 'cars', 'explainlikeimfive', 'hockey', 'math', \n",
    "              'nba', 'programming', 'malefashionadvice', 'books']"
   ]
  },
  {
   "cell_type": "code",
   "execution_count": 3,
   "metadata": {
    "collapsed": true
   },
   "outputs": [],
   "source": [
    "dataset = Dataset(max_len=20, preshuffle=False, batch_size=20)"
   ]
  },
  {
   "cell_type": "code",
   "execution_count": 4,
   "metadata": {
    "collapsed": false
   },
   "outputs": [
    {
     "name": "stdout",
     "output_type": "stream",
     "text": [
      "loaded 10331353 sentences\n"
     ]
    }
   ],
   "source": [
    "dataset.ReadData('/n/falcon/s0/ajaech/reddit.tsv.bz2', ['subreddit', 'text'], mode='eval',\n",
    "                 splitter='word', limit=60000000)"
   ]
  },
  {
   "cell_type": "code",
   "execution_count": 5,
   "metadata": {
    "collapsed": true
   },
   "outputs": [],
   "source": [
    "df = dataset.data"
   ]
  },
  {
   "cell_type": "code",
   "execution_count": 6,
   "metadata": {
    "collapsed": false
   },
   "outputs": [
    {
     "data": {
      "text/plain": [
       "10331353"
      ]
     },
     "execution_count": 6,
     "metadata": {},
     "output_type": "execute_result"
    }
   ],
   "source": [
    "len(df)"
   ]
  },
  {
   "cell_type": "code",
   "execution_count": 8,
   "metadata": {
    "collapsed": false
   },
   "outputs": [
    {
     "data": {
      "text/plain": [
       "30999"
      ]
     },
     "execution_count": 8,
     "metadata": {},
     "output_type": "execute_result"
    }
   ],
   "source": [
    "(df.subreddit == 'buildapc').sum()"
   ]
  },
  {
   "cell_type": "code",
   "execution_count": null,
   "metadata": {
    "collapsed": true
   },
   "outputs": [],
   "source": [
    "subsets = {}\n",
    "count = 2000\n",
    "for sub in subreddits:\n",
    "    subsets[sub] = df[df.subreddit == sub].sample(2000)"
   ]
  },
  {
   "cell_type": "code",
   "execution_count": null,
   "metadata": {
    "collapsed": false
   },
   "outputs": [],
   "source": [
    "count = 2000\n",
    "for sub in subsets:\n",
    "    print sub, len(subsets[sub])"
   ]
  },
  {
   "cell_type": "code",
   "execution_count": null,
   "metadata": {
    "collapsed": false
   },
   "outputs": [],
   "source": [
    "(df.subreddit == 'mildlyinteresting').sum()"
   ]
  },
  {
   "cell_type": "code",
   "execution_count": null,
   "metadata": {
    "collapsed": false
   },
   "outputs": [],
   "source": [
    "result = pandas.concat(subsets.values())"
   ]
  },
  {
   "cell_type": "code",
   "execution_count": null,
   "metadata": {
    "collapsed": false
   },
   "outputs": [],
   "source": [
    "len(result)"
   ]
  },
  {
   "cell_type": "code",
   "execution_count": null,
   "metadata": {
    "collapsed": false
   },
   "outputs": [],
   "source": [
    "result.to_csv('subreddit_classification_data.tsv.gz', sep='\\t', compression='gzip', index=None, header=None)"
   ]
  },
  {
   "cell_type": "code",
   "execution_count": null,
   "metadata": {
    "collapsed": false
   },
   "outputs": [],
   "source": [
    "len(scotus.data)"
   ]
  },
  {
   "cell_type": "code",
   "execution_count": null,
   "metadata": {
    "collapsed": false
   },
   "outputs": [],
   "source": [
    "scotus = Dataset(max_len=20, preshuffle=False, batch_size=20)\n",
    "scotus.ReadData('/g/ssli/data/scotus/aaron/scotus_big.tsv.gz', ['case', 'person', 'role', 'text'], mode='train',\n",
    "                 splitter='word', limit=60000000)"
   ]
  },
  {
   "cell_type": "code",
   "execution_count": null,
   "metadata": {
    "collapsed": false
   },
   "outputs": [],
   "source": [
    "len(scotus.data.case.unique())"
   ]
  },
  {
   "cell_type": "code",
   "execution_count": null,
   "metadata": {
    "collapsed": false
   },
   "outputs": [],
   "source": [
    "import collections\n",
    "collections.Counter(twitter.data.lang).most_common(10)"
   ]
  },
  {
   "cell_type": "code",
   "execution_count": null,
   "metadata": {
    "collapsed": false
   },
   "outputs": [],
   "source": [
    "twitter = Dataset(max_len=200)\n",
    "twitter.ReadData('/g/ssli/data/LowResourceLM/tweets/train.tsv.gz', ['lang', 'text'], mode='all', splitter='char', limit=10000000)"
   ]
  },
  {
   "cell_type": "code",
   "execution_count": null,
   "metadata": {
    "collapsed": false
   },
   "outputs": [],
   "source": [
    "Basque"
   ]
  },
  {
   "cell_type": "code",
   "execution_count": null,
   "metadata": {
    "collapsed": false
   },
   "outputs": [],
   "source": [
    "1174/76875.0"
   ]
  },
  {
   "cell_type": "code",
   "execution_count": null,
   "metadata": {
    "collapsed": false
   },
   "outputs": [],
   "source": [
    "24939/76875.0"
   ]
  },
  {
   "cell_type": "code",
   "execution_count": 104,
   "metadata": {
    "collapsed": false,
    "scrolled": true
   },
   "outputs": [
    {
     "data": {
      "text/plain": [
       "[('AskReddit', 768734),\n",
       " ('leagueoflegends', 188185),\n",
       " ('funny', 140154),\n",
       " ('nba', 135823),\n",
       " ('hockey', 129843),\n",
       " ('pics', 121846),\n",
       " ('videos', 109426),\n",
       " ('news', 99172),\n",
       " ('pcmasterrace', 97813),\n",
       " ('todayilearned', 96108),\n",
       " ('thebutton', 93649),\n",
       " ('worldnews', 89385),\n",
       " ('AdviceAnimals', 87477),\n",
       " ('gaming', 81185),\n",
       " ('soccer', 77832),\n",
       " ('nfl', 76861),\n",
       " ('WTF', 73921),\n",
       " ('movies', 72994),\n",
       " ('DotA2', 72781),\n",
       " ('SquaredCircle', 70332),\n",
       " ('DestinyTheGame', 67901),\n",
       " ('GlobalOffensive', 67553),\n",
       " ('amiibo', 55457),\n",
       " ('fatpeoplehate', 54132),\n",
       " ('CasualConversation', 53364),\n",
       " ('gifs', 47711),\n",
       " ('politics', 47380),\n",
       " ('relationships', 45263),\n",
       " ('anime', 39419),\n",
       " ('trees', 38312),\n",
       " ('explainlikeimfive', 37951),\n",
       " ('bloodborne', 37824),\n",
       " ('smashbros', 37606),\n",
       " ('hearthstone', 36330),\n",
       " ('electronic_cigarette', 35741),\n",
       " ('newsokur', 35389),\n",
       " ('TumblrInAction', 35053),\n",
       " ('GlobalOffensiveTrade', 33446),\n",
       " ('IAmA', 32125),\n",
       " ('Fitness', 32021),\n",
       " ('Showerthoughts', 31341),\n",
       " ('buildapc', 30999),\n",
       " ('GrandTheftAutoV_PC', 30895),\n",
       " ('aww', 29042),\n",
       " ('tifu', 27875),\n",
       " ('Games', 27377),\n",
       " ('baseball', 27170),\n",
       " ('atheism', 26918),\n",
       " ('rupaulsdragrace', 26680),\n",
       " ('technology', 26452),\n",
       " ('asoiaf', 25734),\n",
       " ('2007scape', 25733),\n",
       " ('AskWomen', 25598),\n",
       " ('KotakuInAction', 25427),\n",
       " ('AskMen', 24491),\n",
       " ('personalfinance', 24414),\n",
       " ('SubredditDrama', 24183),\n",
       " ('hiphopheads', 24036),\n",
       " ('wow', 23960),\n",
       " ('gonewild', 23953),\n",
       " ('MMA', 23675),\n",
       " ('Music', 23297),\n",
       " ('magicTCG', 23294),\n",
       " ('Fireteams', 23229),\n",
       " ('CFB', 23104),\n",
       " ('Android', 22969),\n",
       " ('Smite', 22093),\n",
       " ('mildlyinteresting', 22079),\n",
       " ('PS4', 21924),\n",
       " ('india', 21236),\n",
       " ('Random_Acts_Of_Amazon', 21083),\n",
       " ('TrollXChromosomes', 20562),\n",
       " ('EliteDangerous', 20303),\n",
       " ('xboxone', 20023),\n",
       " ('whowouldwin', 19880),\n",
       " ('pokemontrades', 19753),\n",
       " ('ffxiv', 19730),\n",
       " ('OkCupid', 19261),\n",
       " ('europe', 19213),\n",
       " ('Bitcoin', 19104),\n",
       " ('MonsterHunter', 18915),\n",
       " ('Eve', 18271),\n",
       " ('CollegeBasketball', 18123),\n",
       " ('csgobetting', 17910),\n",
       " ('cars', 17750),\n",
       " ('Christianity', 17715),\n",
       " ('pathofexile', 16939),\n",
       " ('DarkSouls2', 16864),\n",
       " ('unitedkingdom', 16706),\n",
       " ('TwoXChromosomes', 16681),\n",
       " ('MortalKombat', 16637),\n",
       " ('heroesofthestorm', 16608),\n",
       " ('MLPLounge', 16483),\n",
       " ('Guildwars2', 16356),\n",
       " ('FIFA', 16215),\n",
       " ('books', 16076),\n",
       " ('formula1', 15992),\n",
       " ('motorcycles', 15800),\n",
       " ('nottheonion', 15798),\n",
       " ('StarWars', 15746)]"
      ]
     },
     "execution_count": 104,
     "metadata": {},
     "output_type": "execute_result"
    }
   ],
   "source": [
    "import collections\n",
    "m = collections.Counter(df.subreddit)\n",
    "m.most_common(100)"
   ]
  },
  {
   "cell_type": "code",
   "execution_count": 105,
   "metadata": {
    "collapsed": true
   },
   "outputs": [],
   "source": [
    "subreddits = set(['askmen', 'askscience', 'askwomen', 'atheism', 'changemyview', 'fitness', 'politics',\n",
    "                 'worldnews', 'books', 'chicago', 'nyc', 'seattle', 'explainlikeimfive', 'science', \n",
    "                 'running', 'nfl', 'todayilearned'])"
   ]
  },
  {
   "cell_type": "code",
   "execution_count": 106,
   "metadata": {
    "collapsed": true
   },
   "outputs": [],
   "source": [
    "import bz2\n",
    "import json\n",
    "import random\n",
    "import re\n",
    "\n",
    "from nltk import tokenize\n",
    "\n",
    "f2 = '/g/ssli/data/reddit/reddit_data_2007_2015/2015/RC_2015-05.bz2'\n",
    "\n",
    "outfile = bz2.BZ2File('/s0/ajaech/reddit05.tsv.bz2', 'w')\n",
    "\n",
    "def Extract(fname):\n",
    "\n",
    "  count = 0\n",
    "  with bz2.BZ2File(fname, 'r') as f:\n",
    "    for idx, line in enumerate(f):\n",
    "      data = json.loads(line)\n",
    "      text = data['body']\n",
    "      if text == '[deleted]':\n",
    "        continue\n",
    "      subreddit = data['subreddit']\n",
    "      if subreddit.lower() not in subreddits:\n",
    "            continue\n",
    "    \n",
    "      idcode = data['id']\n",
    "\n",
    "      sentences = tokenize.sent_tokenize(text)\n",
    "      for sentence in sentences:\n",
    "        re.sub(ur'http://\\S*', '<URL>', sentence)\n",
    "        words = ' '.join(tokenize.word_tokenize(sentence.lower()))\n",
    "\n",
    "        fields = u'\\t'.join((subreddit, idcode, words))\n",
    "        line = u'{0}\\n'.format(fields)\n",
    "        outfile.write(line.encode('utf8'))\n",
    "\n",
    "Extract(f2)\n",
    "\n",
    "outfile.close()\n",
    "\n"
   ]
  },
  {
   "cell_type": "code",
   "execution_count": null,
   "metadata": {
    "collapsed": true
   },
   "outputs": [],
   "source": []
  }
 ],
 "metadata": {
  "kernelspec": {
   "display_name": "Python 2",
   "language": "python",
   "name": "python2"
  },
  "language_info": {
   "codemirror_mode": {
    "name": "ipython",
    "version": 2
   },
   "file_extension": ".py",
   "mimetype": "text/x-python",
   "name": "python",
   "nbconvert_exporter": "python",
   "pygments_lexer": "ipython2",
   "version": "2.7.11"
  }
 },
 "nbformat": 4,
 "nbformat_minor": 2
}
